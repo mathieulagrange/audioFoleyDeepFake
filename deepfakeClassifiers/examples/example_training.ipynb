{
 "cells": [
  {
   "cell_type": "markdown",
   "metadata": {},
   "source": [
    "## Import librairies and data"
   ]
  },
  {
   "cell_type": "code",
   "execution_count": 5,
   "metadata": {},
   "outputs": [
    {
     "name": "stdout",
     "output_type": "stream",
     "text": [
      "-------------------------\n",
      "Hyper Parameter Settings\n",
      "-------------------------\n",
      "batch_size: 128\n",
      "num_epochs: 100\n",
      "learning_rate: 0.1\n",
      "stopping_rate: 1e-05\n",
      "momentum: 0.6\n",
      "factor: 0.2\n",
      "patience: 30\n",
      "condition: improvement\n",
      "input_size: 1\n",
      "hidden_size: 64\n",
      "output_size: 64\n",
      "pool_size: 3\n",
      "threshold: 0.5\n",
      "checkpoint_interval: 10\n",
      "-------------------------\n"
     ]
    }
   ],
   "source": [
    "import json\n",
    "import numpy as np \n",
    "import os\n",
    "import pandas as pd\n",
    "from tqdm import tqdm, trange\n",
    "import pickle\n",
    "from flopth import flopth\n",
    "import sys\n",
    "\n",
    "\n",
    "from sklearn.metrics import accuracy_score, confusion_matrix\n",
    "from sklearn.model_selection import train_test_split\n",
    "\n",
    "\n",
    "import seaborn as sns\n",
    "from seaborn import color_palette\n",
    "import matplotlib.pyplot as plt\n",
    "\n",
    "import torch\n",
    "import torch.nn as nn\n",
    "import torch.nn.functional as F\n",
    "import torch.optim as optim\n",
    "from torch.optim.lr_scheduler import ReduceLROnPlateau\n",
    "from torch.utils.data import DataLoader, TensorDataset\n",
    "from torch.utils.data import WeightedRandomSampler\n",
    "\n",
    "sys.path.append(os.path.abspath('../models'))\n",
    "\n",
    "from cnn import CNNClassifier\n",
    "from mlp import MLP_Classifier\n",
    "\n",
    "\n",
    "sys.path.append(os.path.abspath('../'))\n",
    "from utils import *\n",
    "from utils import ModelTrainer\n",
    "from data_loader import DataSplitLoader\n",
    "\n",
    "from hparams import hparams\n",
    "hparams.parse_argument(args=[\"--batch_size\", \"128\"])\n"
   ]
  },
  {
   "cell_type": "code",
   "execution_count": 2,
   "metadata": {},
   "outputs": [],
   "source": [
    "# Run if File pickle already exists in folder\n",
    "with open('./DeepFake_Real_Sounds.pkl', 'rb') as file:\n",
    "    data_final = pickle.load(file)\n"
   ]
  },
  {
   "cell_type": "code",
   "execution_count": 3,
   "metadata": {},
   "outputs": [
    {
     "name": "stdout",
     "output_type": "stream",
     "text": [
      "-------------------------\n",
      "Hyper Parameter Settings\n",
      "-------------------------\n",
      "batch_size: 128\n",
      "num_epochs: 100\n",
      "learning_rate: 0.0007\n",
      "stopping_rate: 1e-05\n",
      "momentum: 0.9\n",
      "factor: 0.2\n",
      "patience: 30\n",
      "condition: improvement\n",
      "input_size: 1\n",
      "hidden_size: 64\n",
      "output_size: 64\n",
      "pool_size: 3\n",
      "threshold: 0.5\n",
      "checkpoint_interval: 10\n",
      "-------------------------\n"
     ]
    },
    {
     "name": "stderr",
     "output_type": "stream",
     "text": [
      "Warming up GPU: 100%|██████████| 3/3 [00:03<00:00,  1.11s/it]\n"
     ]
    },
    {
     "name": "stdout",
     "output_type": "stream",
     "text": [
      "Training of the model MLP_Classifier(\n",
      "  (linear1): Linear(in_features=128, out_features=512, bias=True)\n",
      "  (relu1): ReLU()\n",
      "  (dropout1): Dropout(p=0.5, inplace=False)\n",
      "  (linear2): Linear(in_features=512, out_features=1024, bias=True)\n",
      "  (relu2): ReLU()\n",
      "  (dropout2): Dropout(p=0.5, inplace=False)\n",
      "  (linear3): Linear(in_features=1024, out_features=512, bias=True)\n",
      "  (relu3): ReLU()\n",
      "  (dropout3): Dropout(p=0.5, inplace=False)\n",
      "  (linear4): Linear(in_features=512, out_features=1, bias=True)\n",
      ") is starting ...\n"
     ]
    },
    {
     "name": "stderr",
     "output_type": "stream",
     "text": []
    },
    {
     "name": "stdout",
     "output_type": "stream",
     "text": [
      "[Epoch 1/100] [Train Loss: 0.4268] [Train Acc: 0.8013] [Valid Loss: 0.3845] [Valid Acc: 0.7937]\n"
     ]
    },
    {
     "name": "stderr",
     "output_type": "stream",
     "text": []
    },
    {
     "name": "stdout",
     "output_type": "stream",
     "text": [
      "[Epoch 2/100] [Train Loss: 0.4042] [Train Acc: 0.8107] [Valid Loss: 0.4282] [Valid Acc: 0.7603]\n"
     ]
    },
    {
     "name": "stderr",
     "output_type": "stream",
     "text": []
    },
    {
     "name": "stdout",
     "output_type": "stream",
     "text": [
      "[Epoch 3/100] [Train Loss: 0.3970] [Train Acc: 0.8176] [Valid Loss: 0.4611] [Valid Acc: 0.7381]\n"
     ]
    },
    {
     "name": "stderr",
     "output_type": "stream",
     "text": []
    },
    {
     "name": "stdout",
     "output_type": "stream",
     "text": [
      "[Epoch 4/100] [Train Loss: 0.3886] [Train Acc: 0.8218] [Valid Loss: 0.3564] [Valid Acc: 0.8050]\n"
     ]
    },
    {
     "name": "stderr",
     "output_type": "stream",
     "text": []
    },
    {
     "name": "stdout",
     "output_type": "stream",
     "text": [
      "[Epoch 5/100] [Train Loss: 0.3696] [Train Acc: 0.8320] [Valid Loss: 0.3849] [Valid Acc: 0.7869]\n"
     ]
    },
    {
     "name": "stderr",
     "output_type": "stream",
     "text": []
    },
    {
     "name": "stdout",
     "output_type": "stream",
     "text": [
      "[Epoch 6/100] [Train Loss: 0.3651] [Train Acc: 0.8334] [Valid Loss: 0.3663] [Valid Acc: 0.8119]\n"
     ]
    },
    {
     "name": "stderr",
     "output_type": "stream",
     "text": []
    },
    {
     "name": "stdout",
     "output_type": "stream",
     "text": [
      "[Epoch 7/100] [Train Loss: 0.3606] [Train Acc: 0.8398] [Valid Loss: 0.3118] [Valid Acc: 0.8419]\n"
     ]
    },
    {
     "name": "stderr",
     "output_type": "stream",
     "text": []
    },
    {
     "name": "stdout",
     "output_type": "stream",
     "text": [
      "[Epoch 8/100] [Train Loss: 0.3532] [Train Acc: 0.8416] [Valid Loss: 0.3222] [Valid Acc: 0.8303]\n"
     ]
    },
    {
     "name": "stderr",
     "output_type": "stream",
     "text": []
    },
    {
     "name": "stdout",
     "output_type": "stream",
     "text": [
      "[Epoch 9/100] [Train Loss: 0.3456] [Train Acc: 0.8448] [Valid Loss: 0.3436] [Valid Acc: 0.8172]\n"
     ]
    },
    {
     "name": "stderr",
     "output_type": "stream",
     "text": []
    },
    {
     "name": "stdout",
     "output_type": "stream",
     "text": [
      "[Epoch 10/100] [Train Loss: 0.3290] [Train Acc: 0.8571] [Valid Loss: 0.2775] [Valid Acc: 0.8638]\n",
      "Model saved to ./model_checkpoints/model_MLP_vgg_epoch_10.pth\n"
     ]
    },
    {
     "name": "stderr",
     "output_type": "stream",
     "text": []
    },
    {
     "name": "stdout",
     "output_type": "stream",
     "text": [
      "[Epoch 11/100] [Train Loss: 0.3261] [Train Acc: 0.8570] [Valid Loss: 0.3263] [Valid Acc: 0.8275]\n"
     ]
    },
    {
     "name": "stderr",
     "output_type": "stream",
     "text": []
    },
    {
     "name": "stdout",
     "output_type": "stream",
     "text": [
      "[Epoch 12/100] [Train Loss: 0.3206] [Train Acc: 0.8590] [Valid Loss: 0.3496] [Valid Acc: 0.8209]\n"
     ]
    },
    {
     "name": "stderr",
     "output_type": "stream",
     "text": []
    },
    {
     "name": "stdout",
     "output_type": "stream",
     "text": [
      "[Epoch 13/100] [Train Loss: 0.3103] [Train Acc: 0.8638] [Valid Loss: 0.3656] [Valid Acc: 0.8203]\n"
     ]
    },
    {
     "name": "stderr",
     "output_type": "stream",
     "text": []
    },
    {
     "name": "stdout",
     "output_type": "stream",
     "text": [
      "[Epoch 14/100] [Train Loss: 0.3136] [Train Acc: 0.8626] [Valid Loss: 0.3488] [Valid Acc: 0.8156]\n"
     ]
    },
    {
     "name": "stderr",
     "output_type": "stream",
     "text": []
    },
    {
     "name": "stdout",
     "output_type": "stream",
     "text": [
      "[Epoch 15/100] [Train Loss: 0.3022] [Train Acc: 0.8694] [Valid Loss: 0.3370] [Valid Acc: 0.8209]\n"
     ]
    },
    {
     "name": "stderr",
     "output_type": "stream",
     "text": []
    },
    {
     "name": "stdout",
     "output_type": "stream",
     "text": [
      "[Epoch 16/100] [Train Loss: 0.2985] [Train Acc: 0.8706] [Valid Loss: 0.2980] [Valid Acc: 0.8534]\n"
     ]
    },
    {
     "name": "stderr",
     "output_type": "stream",
     "text": []
    },
    {
     "name": "stdout",
     "output_type": "stream",
     "text": [
      "[Epoch 17/100] [Train Loss: 0.2969] [Train Acc: 0.8709] [Valid Loss: 0.2687] [Valid Acc: 0.8672]\n"
     ]
    },
    {
     "name": "stderr",
     "output_type": "stream",
     "text": []
    },
    {
     "name": "stdout",
     "output_type": "stream",
     "text": [
      "[Epoch 18/100] [Train Loss: 0.2853] [Train Acc: 0.8740] [Valid Loss: 0.2988] [Valid Acc: 0.8475]\n"
     ]
    },
    {
     "name": "stderr",
     "output_type": "stream",
     "text": []
    },
    {
     "name": "stdout",
     "output_type": "stream",
     "text": [
      "[Epoch 19/100] [Train Loss: 0.2879] [Train Acc: 0.8773] [Valid Loss: 0.2897] [Valid Acc: 0.8541]\n"
     ]
    },
    {
     "name": "stderr",
     "output_type": "stream",
     "text": []
    },
    {
     "name": "stdout",
     "output_type": "stream",
     "text": [
      "[Epoch 20/100] [Train Loss: 0.2832] [Train Acc: 0.8766] [Valid Loss: 0.3665] [Valid Acc: 0.8134]\n",
      "Model saved to ./model_checkpoints/model_MLP_vgg_epoch_20.pth\n"
     ]
    },
    {
     "name": "stderr",
     "output_type": "stream",
     "text": []
    },
    {
     "name": "stdout",
     "output_type": "stream",
     "text": [
      "[Epoch 21/100] [Train Loss: 0.2803] [Train Acc: 0.8798] [Valid Loss: 0.2982] [Valid Acc: 0.8509]\n"
     ]
    },
    {
     "name": "stderr",
     "output_type": "stream",
     "text": []
    },
    {
     "name": "stdout",
     "output_type": "stream",
     "text": [
      "[Epoch 22/100] [Train Loss: 0.2722] [Train Acc: 0.8858] [Valid Loss: 0.3266] [Valid Acc: 0.8397]\n"
     ]
    },
    {
     "name": "stderr",
     "output_type": "stream",
     "text": []
    },
    {
     "name": "stdout",
     "output_type": "stream",
     "text": [
      "[Epoch 23/100] [Train Loss: 0.2743] [Train Acc: 0.8828] [Valid Loss: 0.3008] [Valid Acc: 0.8525]\n"
     ]
    },
    {
     "name": "stderr",
     "output_type": "stream",
     "text": []
    },
    {
     "name": "stdout",
     "output_type": "stream",
     "text": [
      "[Epoch 24/100] [Train Loss: 0.2643] [Train Acc: 0.8880] [Valid Loss: 0.3029] [Valid Acc: 0.8500]\n"
     ]
    },
    {
     "name": "stderr",
     "output_type": "stream",
     "text": []
    },
    {
     "name": "stdout",
     "output_type": "stream",
     "text": [
      "[Epoch 25/100] [Train Loss: 0.2686] [Train Acc: 0.8868] [Valid Loss: 0.2881] [Valid Acc: 0.8603]\n"
     ]
    },
    {
     "name": "stderr",
     "output_type": "stream",
     "text": []
    },
    {
     "name": "stdout",
     "output_type": "stream",
     "text": [
      "[Epoch 26/100] [Train Loss: 0.2614] [Train Acc: 0.8894] [Valid Loss: 0.2989] [Valid Acc: 0.8500]\n"
     ]
    },
    {
     "name": "stderr",
     "output_type": "stream",
     "text": []
    },
    {
     "name": "stdout",
     "output_type": "stream",
     "text": [
      "[Epoch 27/100] [Train Loss: 0.2595] [Train Acc: 0.8902] [Valid Loss: 0.2896] [Valid Acc: 0.8541]\n"
     ]
    },
    {
     "name": "stderr",
     "output_type": "stream",
     "text": []
    },
    {
     "name": "stdout",
     "output_type": "stream",
     "text": [
      "[Epoch 28/100] [Train Loss: 0.2531] [Train Acc: 0.8946] [Valid Loss: 0.2952] [Valid Acc: 0.8547]\n"
     ]
    },
    {
     "name": "stderr",
     "output_type": "stream",
     "text": []
    },
    {
     "name": "stdout",
     "output_type": "stream",
     "text": [
      "[Epoch 29/100] [Train Loss: 0.2552] [Train Acc: 0.8930] [Valid Loss: 0.2756] [Valid Acc: 0.8650]\n"
     ]
    },
    {
     "name": "stderr",
     "output_type": "stream",
     "text": []
    },
    {
     "name": "stdout",
     "output_type": "stream",
     "text": [
      "[Epoch 30/100] [Train Loss: 0.2480] [Train Acc: 0.8987] [Valid Loss: 0.2809] [Valid Acc: 0.8666]\n",
      "Model saved to ./model_checkpoints/model_MLP_vgg_epoch_30.pth\n"
     ]
    },
    {
     "name": "stderr",
     "output_type": "stream",
     "text": []
    },
    {
     "name": "stdout",
     "output_type": "stream",
     "text": [
      "[Epoch 31/100] [Train Loss: 0.2493] [Train Acc: 0.8951] [Valid Loss: 0.3140] [Valid Acc: 0.8500]\n"
     ]
    },
    {
     "name": "stderr",
     "output_type": "stream",
     "text": []
    },
    {
     "name": "stdout",
     "output_type": "stream",
     "text": [
      "[Epoch 32/100] [Train Loss: 0.2460] [Train Acc: 0.8951] [Valid Loss: 0.2603] [Valid Acc: 0.8725]\n"
     ]
    },
    {
     "name": "stderr",
     "output_type": "stream",
     "text": []
    },
    {
     "name": "stdout",
     "output_type": "stream",
     "text": [
      "[Epoch 33/100] [Train Loss: 0.2464] [Train Acc: 0.8969] [Valid Loss: 0.2956] [Valid Acc: 0.8622]\n"
     ]
    },
    {
     "name": "stderr",
     "output_type": "stream",
     "text": []
    },
    {
     "name": "stdout",
     "output_type": "stream",
     "text": [
      "[Epoch 34/100] [Train Loss: 0.2437] [Train Acc: 0.8977] [Valid Loss: 0.3102] [Valid Acc: 0.8600]\n"
     ]
    },
    {
     "name": "stderr",
     "output_type": "stream",
     "text": []
    },
    {
     "name": "stdout",
     "output_type": "stream",
     "text": [
      "[Epoch 35/100] [Train Loss: 0.2402] [Train Acc: 0.9008] [Valid Loss: 0.2826] [Valid Acc: 0.8681]\n"
     ]
    },
    {
     "name": "stderr",
     "output_type": "stream",
     "text": []
    },
    {
     "name": "stdout",
     "output_type": "stream",
     "text": [
      "[Epoch 36/100] [Train Loss: 0.2362] [Train Acc: 0.9038] [Valid Loss: 0.2644] [Valid Acc: 0.8769]\n"
     ]
    },
    {
     "name": "stderr",
     "output_type": "stream",
     "text": []
    },
    {
     "name": "stdout",
     "output_type": "stream",
     "text": [
      "[Epoch 37/100] [Train Loss: 0.2339] [Train Acc: 0.9035] [Valid Loss: 0.2635] [Valid Acc: 0.8819]\n"
     ]
    },
    {
     "name": "stderr",
     "output_type": "stream",
     "text": []
    },
    {
     "name": "stdout",
     "output_type": "stream",
     "text": [
      "[Epoch 38/100] [Train Loss: 0.2317] [Train Acc: 0.9054] [Valid Loss: 0.2685] [Valid Acc: 0.8709]\n"
     ]
    },
    {
     "name": "stderr",
     "output_type": "stream",
     "text": []
    },
    {
     "name": "stdout",
     "output_type": "stream",
     "text": [
      "[Epoch 39/100] [Train Loss: 0.2341] [Train Acc: 0.9033] [Valid Loss: 0.2809] [Valid Acc: 0.8619]\n"
     ]
    },
    {
     "name": "stderr",
     "output_type": "stream",
     "text": []
    },
    {
     "name": "stdout",
     "output_type": "stream",
     "text": [
      "[Epoch 40/100] [Train Loss: 0.2225] [Train Acc: 0.9091] [Valid Loss: 0.2770] [Valid Acc: 0.8688]\n",
      "Model saved to ./model_checkpoints/model_MLP_vgg_epoch_40.pth\n"
     ]
    },
    {
     "name": "stderr",
     "output_type": "stream",
     "text": []
    },
    {
     "name": "stdout",
     "output_type": "stream",
     "text": [
      "[Epoch 41/100] [Train Loss: 0.2242] [Train Acc: 0.9083] [Valid Loss: 0.2508] [Valid Acc: 0.8850]\n"
     ]
    },
    {
     "name": "stderr",
     "output_type": "stream",
     "text": []
    },
    {
     "name": "stdout",
     "output_type": "stream",
     "text": [
      "[Epoch 42/100] [Train Loss: 0.2222] [Train Acc: 0.9080] [Valid Loss: 0.2663] [Valid Acc: 0.8716]\n"
     ]
    },
    {
     "name": "stderr",
     "output_type": "stream",
     "text": []
    },
    {
     "name": "stdout",
     "output_type": "stream",
     "text": [
      "[Epoch 43/100] [Train Loss: 0.2233] [Train Acc: 0.9094] [Valid Loss: 0.2678] [Valid Acc: 0.8781]\n"
     ]
    },
    {
     "name": "stderr",
     "output_type": "stream",
     "text": []
    },
    {
     "name": "stdout",
     "output_type": "stream",
     "text": [
      "[Epoch 44/100] [Train Loss: 0.2177] [Train Acc: 0.9108] [Valid Loss: 0.2782] [Valid Acc: 0.8784]\n"
     ]
    },
    {
     "name": "stderr",
     "output_type": "stream",
     "text": []
    },
    {
     "name": "stdout",
     "output_type": "stream",
     "text": [
      "[Epoch 45/100] [Train Loss: 0.2164] [Train Acc: 0.9130] [Valid Loss: 0.2809] [Valid Acc: 0.8744]\n"
     ]
    },
    {
     "name": "stderr",
     "output_type": "stream",
     "text": []
    },
    {
     "name": "stdout",
     "output_type": "stream",
     "text": [
      "[Epoch 46/100] [Train Loss: 0.2164] [Train Acc: 0.9122] [Valid Loss: 0.2689] [Valid Acc: 0.8738]\n"
     ]
    },
    {
     "name": "stderr",
     "output_type": "stream",
     "text": []
    },
    {
     "name": "stdout",
     "output_type": "stream",
     "text": [
      "[Epoch 47/100] [Train Loss: 0.2195] [Train Acc: 0.9126] [Valid Loss: 0.2802] [Valid Acc: 0.8747]\n"
     ]
    },
    {
     "name": "stderr",
     "output_type": "stream",
     "text": []
    },
    {
     "name": "stdout",
     "output_type": "stream",
     "text": [
      "[Epoch 48/100] [Train Loss: 0.2094] [Train Acc: 0.9156] [Valid Loss: 0.2525] [Valid Acc: 0.8853]\n"
     ]
    },
    {
     "name": "stderr",
     "output_type": "stream",
     "text": []
    },
    {
     "name": "stdout",
     "output_type": "stream",
     "text": [
      "[Epoch 49/100] [Train Loss: 0.2107] [Train Acc: 0.9135] [Valid Loss: 0.3207] [Valid Acc: 0.8572]\n"
     ]
    },
    {
     "name": "stderr",
     "output_type": "stream",
     "text": []
    },
    {
     "name": "stdout",
     "output_type": "stream",
     "text": [
      "[Epoch 50/100] [Train Loss: 0.2087] [Train Acc: 0.9144] [Valid Loss: 0.2710] [Valid Acc: 0.8781]\n",
      "Model saved to ./model_checkpoints/model_MLP_vgg_epoch_50.pth\n"
     ]
    },
    {
     "name": "stderr",
     "output_type": "stream",
     "text": []
    },
    {
     "name": "stdout",
     "output_type": "stream",
     "text": [
      "[Epoch 51/100] [Train Loss: 0.2049] [Train Acc: 0.9183] [Valid Loss: 0.2875] [Valid Acc: 0.8691]\n"
     ]
    },
    {
     "name": "stderr",
     "output_type": "stream",
     "text": []
    },
    {
     "name": "stdout",
     "output_type": "stream",
     "text": [
      "[Epoch 52/100] [Train Loss: 0.2039] [Train Acc: 0.9178] [Valid Loss: 0.2577] [Valid Acc: 0.8878]\n"
     ]
    },
    {
     "name": "stderr",
     "output_type": "stream",
     "text": []
    },
    {
     "name": "stdout",
     "output_type": "stream",
     "text": [
      "[Epoch 53/100] [Train Loss: 0.2008] [Train Acc: 0.9181] [Valid Loss: 0.2696] [Valid Acc: 0.8806]\n"
     ]
    },
    {
     "name": "stderr",
     "output_type": "stream",
     "text": []
    },
    {
     "name": "stdout",
     "output_type": "stream",
     "text": [
      "[Epoch 54/100] [Train Loss: 0.1969] [Train Acc: 0.9197] [Valid Loss: 0.2648] [Valid Acc: 0.8862]\n"
     ]
    },
    {
     "name": "stderr",
     "output_type": "stream",
     "text": []
    },
    {
     "name": "stdout",
     "output_type": "stream",
     "text": [
      "[Epoch 55/100] [Train Loss: 0.2022] [Train Acc: 0.9181] [Valid Loss: 0.2643] [Valid Acc: 0.8828]\n"
     ]
    },
    {
     "name": "stderr",
     "output_type": "stream",
     "text": []
    },
    {
     "name": "stdout",
     "output_type": "stream",
     "text": [
      "[Epoch 56/100] [Train Loss: 0.1996] [Train Acc: 0.9207] [Valid Loss: 0.2702] [Valid Acc: 0.8841]\n"
     ]
    },
    {
     "name": "stderr",
     "output_type": "stream",
     "text": []
    },
    {
     "name": "stdout",
     "output_type": "stream",
     "text": [
      "[Epoch 57/100] [Train Loss: 0.1962] [Train Acc: 0.9208] [Valid Loss: 0.2683] [Valid Acc: 0.8822]\n"
     ]
    },
    {
     "name": "stderr",
     "output_type": "stream",
     "text": []
    },
    {
     "name": "stdout",
     "output_type": "stream",
     "text": [
      "[Epoch 58/100] [Train Loss: 0.1989] [Train Acc: 0.9211] [Valid Loss: 0.2677] [Valid Acc: 0.8831]\n"
     ]
    },
    {
     "name": "stderr",
     "output_type": "stream",
     "text": []
    },
    {
     "name": "stdout",
     "output_type": "stream",
     "text": [
      "[Epoch 59/100] [Train Loss: 0.1896] [Train Acc: 0.9238] [Valid Loss: 0.2835] [Valid Acc: 0.8916]\n"
     ]
    },
    {
     "name": "stderr",
     "output_type": "stream",
     "text": []
    },
    {
     "name": "stdout",
     "output_type": "stream",
     "text": [
      "[Epoch 60/100] [Train Loss: 0.1924] [Train Acc: 0.9257] [Valid Loss: 0.2671] [Valid Acc: 0.8878]\n",
      "Model saved to ./model_checkpoints/model_MLP_vgg_epoch_60.pth\n"
     ]
    },
    {
     "name": "stderr",
     "output_type": "stream",
     "text": []
    },
    {
     "name": "stdout",
     "output_type": "stream",
     "text": [
      "[Epoch 61/100] [Train Loss: 0.1914] [Train Acc: 0.9236] [Valid Loss: 0.2788] [Valid Acc: 0.8847]\n"
     ]
    },
    {
     "name": "stderr",
     "output_type": "stream",
     "text": []
    },
    {
     "name": "stdout",
     "output_type": "stream",
     "text": [
      "[Epoch 62/100] [Train Loss: 0.1915] [Train Acc: 0.9227] [Valid Loss: 0.2801] [Valid Acc: 0.8819]\n"
     ]
    },
    {
     "name": "stderr",
     "output_type": "stream",
     "text": []
    },
    {
     "name": "stdout",
     "output_type": "stream",
     "text": [
      "[Epoch 63/100] [Train Loss: 0.1839] [Train Acc: 0.9275] [Valid Loss: 0.2620] [Valid Acc: 0.8872]\n"
     ]
    },
    {
     "name": "stderr",
     "output_type": "stream",
     "text": []
    },
    {
     "name": "stdout",
     "output_type": "stream",
     "text": [
      "[Epoch 64/100] [Train Loss: 0.1867] [Train Acc: 0.9259] [Valid Loss: 0.2616] [Valid Acc: 0.8931]\n"
     ]
    },
    {
     "name": "stderr",
     "output_type": "stream",
     "text": []
    },
    {
     "name": "stdout",
     "output_type": "stream",
     "text": [
      "[Epoch 65/100] [Train Loss: 0.1836] [Train Acc: 0.9268] [Valid Loss: 0.2670] [Valid Acc: 0.8812]\n"
     ]
    },
    {
     "name": "stderr",
     "output_type": "stream",
     "text": []
    },
    {
     "name": "stdout",
     "output_type": "stream",
     "text": [
      "[Epoch 66/100] [Train Loss: 0.1879] [Train Acc: 0.9257] [Valid Loss: 0.2608] [Valid Acc: 0.8909]\n"
     ]
    },
    {
     "name": "stderr",
     "output_type": "stream",
     "text": []
    },
    {
     "name": "stdout",
     "output_type": "stream",
     "text": [
      "[Epoch 67/100] [Train Loss: 0.1860] [Train Acc: 0.9267] [Valid Loss: 0.2695] [Valid Acc: 0.8859]\n"
     ]
    },
    {
     "name": "stderr",
     "output_type": "stream",
     "text": []
    },
    {
     "name": "stdout",
     "output_type": "stream",
     "text": [
      "[Epoch 68/100] [Train Loss: 0.1781] [Train Acc: 0.9290] [Valid Loss: 0.2784] [Valid Acc: 0.8888]\n"
     ]
    },
    {
     "name": "stderr",
     "output_type": "stream",
     "text": []
    },
    {
     "name": "stdout",
     "output_type": "stream",
     "text": [
      "[Epoch 69/100] [Train Loss: 0.1754] [Train Acc: 0.9306] [Valid Loss: 0.2554] [Valid Acc: 0.8916]\n"
     ]
    },
    {
     "name": "stderr",
     "output_type": "stream",
     "text": []
    },
    {
     "name": "stdout",
     "output_type": "stream",
     "text": [
      "[Epoch 70/100] [Train Loss: 0.1725] [Train Acc: 0.9320] [Valid Loss: 0.2817] [Valid Acc: 0.8844]\n",
      "Model saved to ./model_checkpoints/model_MLP_vgg_epoch_70.pth\n"
     ]
    },
    {
     "name": "stderr",
     "output_type": "stream",
     "text": []
    },
    {
     "name": "stdout",
     "output_type": "stream",
     "text": [
      "[Epoch 71/100] [Train Loss: 0.1773] [Train Acc: 0.9322] [Valid Loss: 0.2880] [Valid Acc: 0.8794]\n"
     ]
    },
    {
     "name": "stderr",
     "output_type": "stream",
     "text": []
    },
    {
     "name": "stdout",
     "output_type": "stream",
     "text": [
      "[Epoch 72/100] [Train Loss: 0.1742] [Train Acc: 0.9308] [Valid Loss: 0.2640] [Valid Acc: 0.8919]\n"
     ]
    },
    {
     "name": "stderr",
     "output_type": "stream",
     "text": []
    },
    {
     "name": "stdout",
     "output_type": "stream",
     "text": [
      "[Epoch 73/100] [Train Loss: 0.1769] [Train Acc: 0.9304] [Valid Loss: 0.2524] [Valid Acc: 0.8912]\n"
     ]
    },
    {
     "name": "stderr",
     "output_type": "stream",
     "text": []
    },
    {
     "name": "stdout",
     "output_type": "stream",
     "text": [
      "[Epoch 74/100] [Train Loss: 0.1744] [Train Acc: 0.9316] [Valid Loss: 0.2742] [Valid Acc: 0.8878]\n"
     ]
    },
    {
     "name": "stderr",
     "output_type": "stream",
     "text": []
    },
    {
     "name": "stdout",
     "output_type": "stream",
     "text": [
      "[Epoch 75/100] [Train Loss: 0.1756] [Train Acc: 0.9305] [Valid Loss: 0.2677] [Valid Acc: 0.8912]\n"
     ]
    },
    {
     "name": "stderr",
     "output_type": "stream",
     "text": []
    },
    {
     "name": "stdout",
     "output_type": "stream",
     "text": [
      "[Epoch 76/100] [Train Loss: 0.1730] [Train Acc: 0.9328] [Valid Loss: 0.2461] [Valid Acc: 0.8975]\n"
     ]
    },
    {
     "name": "stderr",
     "output_type": "stream",
     "text": []
    },
    {
     "name": "stdout",
     "output_type": "stream",
     "text": [
      "[Epoch 77/100] [Train Loss: 0.1669] [Train Acc: 0.9343] [Valid Loss: 0.2631] [Valid Acc: 0.8903]\n"
     ]
    },
    {
     "name": "stderr",
     "output_type": "stream",
     "text": []
    },
    {
     "name": "stdout",
     "output_type": "stream",
     "text": [
      "[Epoch 78/100] [Train Loss: 0.1756] [Train Acc: 0.9299] [Valid Loss: 0.2562] [Valid Acc: 0.8956]\n"
     ]
    },
    {
     "name": "stderr",
     "output_type": "stream",
     "text": []
    },
    {
     "name": "stdout",
     "output_type": "stream",
     "text": [
      "[Epoch 79/100] [Train Loss: 0.1685] [Train Acc: 0.9325] [Valid Loss: 0.2684] [Valid Acc: 0.8919]\n"
     ]
    },
    {
     "name": "stderr",
     "output_type": "stream",
     "text": []
    },
    {
     "name": "stdout",
     "output_type": "stream",
     "text": [
      "[Epoch 80/100] [Train Loss: 0.1704] [Train Acc: 0.9322] [Valid Loss: 0.2751] [Valid Acc: 0.8838]\n",
      "Model saved to ./model_checkpoints/model_MLP_vgg_epoch_80.pth\n"
     ]
    },
    {
     "name": "stderr",
     "output_type": "stream",
     "text": []
    },
    {
     "name": "stdout",
     "output_type": "stream",
     "text": [
      "[Epoch 81/100] [Train Loss: 0.1653] [Train Acc: 0.9354] [Valid Loss: 0.2758] [Valid Acc: 0.8878]\n"
     ]
    },
    {
     "name": "stderr",
     "output_type": "stream",
     "text": []
    },
    {
     "name": "stdout",
     "output_type": "stream",
     "text": [
      "[Epoch 82/100] [Train Loss: 0.1634] [Train Acc: 0.9366] [Valid Loss: 0.2469] [Valid Acc: 0.8991]\n"
     ]
    },
    {
     "name": "stderr",
     "output_type": "stream",
     "text": []
    },
    {
     "name": "stdout",
     "output_type": "stream",
     "text": [
      "[Epoch 83/100] [Train Loss: 0.1581] [Train Acc: 0.9381] [Valid Loss: 0.2540] [Valid Acc: 0.9006]\n"
     ]
    },
    {
     "name": "stderr",
     "output_type": "stream",
     "text": []
    },
    {
     "name": "stdout",
     "output_type": "stream",
     "text": [
      "[Epoch 84/100] [Train Loss: 0.1616] [Train Acc: 0.9354] [Valid Loss: 0.3156] [Valid Acc: 0.8719]\n"
     ]
    },
    {
     "name": "stderr",
     "output_type": "stream",
     "text": []
    },
    {
     "name": "stdout",
     "output_type": "stream",
     "text": [
      "[Epoch 85/100] [Train Loss: 0.1621] [Train Acc: 0.9387] [Valid Loss: 0.2483] [Valid Acc: 0.9031]\n"
     ]
    },
    {
     "name": "stderr",
     "output_type": "stream",
     "text": []
    },
    {
     "name": "stdout",
     "output_type": "stream",
     "text": [
      "[Epoch 86/100] [Train Loss: 0.1594] [Train Acc: 0.9377] [Valid Loss: 0.2587] [Valid Acc: 0.8906]\n"
     ]
    },
    {
     "name": "stderr",
     "output_type": "stream",
     "text": []
    },
    {
     "name": "stdout",
     "output_type": "stream",
     "text": [
      "[Epoch 87/100] [Train Loss: 0.1616] [Train Acc: 0.9365] [Valid Loss: 0.2797] [Valid Acc: 0.8903]\n"
     ]
    },
    {
     "name": "stderr",
     "output_type": "stream",
     "text": []
    },
    {
     "name": "stdout",
     "output_type": "stream",
     "text": [
      "[Epoch 88/100] [Train Loss: 0.1561] [Train Acc: 0.9371] [Valid Loss: 0.2633] [Valid Acc: 0.8956]\n"
     ]
    },
    {
     "name": "stderr",
     "output_type": "stream",
     "text": []
    },
    {
     "name": "stdout",
     "output_type": "stream",
     "text": [
      "[Epoch 89/100] [Train Loss: 0.1563] [Train Acc: 0.9386] [Valid Loss: 0.2519] [Valid Acc: 0.8994]\n"
     ]
    },
    {
     "name": "stderr",
     "output_type": "stream",
     "text": []
    },
    {
     "name": "stdout",
     "output_type": "stream",
     "text": [
      "[Epoch 90/100] [Train Loss: 0.1541] [Train Acc: 0.9403] [Valid Loss: 0.2611] [Valid Acc: 0.8962]\n",
      "Model saved to ./model_checkpoints/model_MLP_vgg_epoch_90.pth\n"
     ]
    },
    {
     "name": "stderr",
     "output_type": "stream",
     "text": []
    },
    {
     "name": "stdout",
     "output_type": "stream",
     "text": [
      "[Epoch 91/100] [Train Loss: 0.1568] [Train Acc: 0.9396] [Valid Loss: 0.2533] [Valid Acc: 0.8950]\n"
     ]
    },
    {
     "name": "stderr",
     "output_type": "stream",
     "text": []
    },
    {
     "name": "stdout",
     "output_type": "stream",
     "text": [
      "[Epoch 92/100] [Train Loss: 0.1521] [Train Acc: 0.9391] [Valid Loss: 0.2566] [Valid Acc: 0.9034]\n"
     ]
    },
    {
     "name": "stderr",
     "output_type": "stream",
     "text": []
    },
    {
     "name": "stdout",
     "output_type": "stream",
     "text": [
      "[Epoch 93/100] [Train Loss: 0.1458] [Train Acc: 0.9444] [Valid Loss: 0.2602] [Valid Acc: 0.8941]\n"
     ]
    },
    {
     "name": "stderr",
     "output_type": "stream",
     "text": []
    },
    {
     "name": "stdout",
     "output_type": "stream",
     "text": [
      "[Epoch 94/100] [Train Loss: 0.1509] [Train Acc: 0.9403] [Valid Loss: 0.2633] [Valid Acc: 0.8950]\n"
     ]
    },
    {
     "name": "stderr",
     "output_type": "stream",
     "text": [
      "Training Epochs:  94%|█████████▍| 94/100 [01:38<00:06,  1.05s/it]\n",
      "  0%|          | 0/10 [01:46<?, ?it/s]\n"
     ]
    },
    {
     "ename": "KeyboardInterrupt",
     "evalue": "",
     "output_type": "error",
     "traceback": [
      "\u001b[1;31m---------------------------------------------------------------------------\u001b[0m",
      "\u001b[1;31mKeyboardInterrupt\u001b[0m                         Traceback (most recent call last)",
      "Cell \u001b[1;32mIn[3], line 29\u001b[0m\n\u001b[0;32m     27\u001b[0m clf\u001b[38;5;241m.\u001b[39mwarm_up_gpu(train_loader)\n\u001b[0;32m     28\u001b[0m \u001b[38;5;66;03m# training model\u001b[39;00m\n\u001b[1;32m---> 29\u001b[0m \u001b[43mclf\u001b[49m\u001b[38;5;241;43m.\u001b[39;49m\u001b[43mtrain\u001b[49m\u001b[43m(\u001b[49m\u001b[43mtrain_loader\u001b[49m\u001b[38;5;241;43m=\u001b[39;49m\u001b[43mtrain_loader\u001b[49m\u001b[43m,\u001b[49m\u001b[43mvalid_loader\u001b[49m\u001b[38;5;241;43m=\u001b[39;49m\u001b[43mvalid_loader\u001b[49m\u001b[43m,\u001b[49m\u001b[43mtimer_starter\u001b[49m\u001b[38;5;241;43m=\u001b[39;49m\u001b[43m \u001b[49m\u001b[43mtimer_starter\u001b[49m\u001b[43m,\u001b[49m\u001b[43m \u001b[49m\u001b[43mtimer_ender\u001b[49m\u001b[38;5;241;43m=\u001b[39;49m\u001b[43mtimer_ender\u001b[49m\u001b[43m,\u001b[49m\u001b[43mtimings\u001b[49m\u001b[43m \u001b[49m\u001b[38;5;241;43m=\u001b[39;49m\u001b[43m \u001b[49m\u001b[43mtimings\u001b[49m\u001b[43m,\u001b[49m\u001b[43mname_model\u001b[49m\u001b[38;5;241;43m=\u001b[39;49m\u001b[38;5;124;43m'\u001b[39;49m\u001b[38;5;124;43mmodel_MLP_vgg\u001b[39;49m\u001b[38;5;124;43m'\u001b[39;49m\u001b[43m)\u001b[49m\n\u001b[0;32m     30\u001b[0m \u001b[38;5;66;03m# picking best model by best valid acc + save \u001b[39;00m\n\u001b[0;32m     31\u001b[0m model_MLP_best \u001b[38;5;241m=\u001b[39m clf\u001b[38;5;241m.\u001b[39mbest_model()\n",
      "File \u001b[1;32mc:\\Users\\Natsu\\OneDrive\\Bureau\\Deep_fake_Project\\audioDeepFake\\Notebooks\\utils.py:153\u001b[0m, in \u001b[0;36mModelTrainer.train\u001b[1;34m(self, train_loader, valid_loader, timer_starter, timer_ender, timings, name_model, checkpoint_path)\u001b[0m\n\u001b[0;32m    150\u001b[0m \u001b[38;5;28mprint\u001b[39m(\u001b[38;5;124mf\u001b[39m\u001b[38;5;124m\"\u001b[39m\u001b[38;5;124mTraining of the model \u001b[39m\u001b[38;5;132;01m{\u001b[39;00m\u001b[38;5;28mstr\u001b[39m(\u001b[38;5;28mself\u001b[39m\u001b[38;5;241m.\u001b[39mmodel)\u001b[38;5;132;01m}\u001b[39;00m\u001b[38;5;124m is starting ...\u001b[39m\u001b[38;5;124m\"\u001b[39m)\n\u001b[0;32m    152\u001b[0m \u001b[38;5;28;01mfor\u001b[39;00m epoch \u001b[38;5;129;01min\u001b[39;00m trange(\u001b[38;5;28mself\u001b[39m\u001b[38;5;241m.\u001b[39mhparams\u001b[38;5;241m.\u001b[39mnum_epochs, desc\u001b[38;5;241m=\u001b[39m\u001b[38;5;124m\"\u001b[39m\u001b[38;5;124mTraining Epochs\u001b[39m\u001b[38;5;124m\"\u001b[39m):\n\u001b[1;32m--> 153\u001b[0m     train_loss, valid_loss, train_acc, valid_acc \u001b[38;5;241m=\u001b[39m \u001b[38;5;28;43mself\u001b[39;49m\u001b[38;5;241;43m.\u001b[39;49m\u001b[43mrun_epoch\u001b[49m\u001b[43m(\u001b[49m\u001b[43mtrain_loader\u001b[49m\u001b[43m,\u001b[49m\u001b[43mvalid_loader\u001b[49m\u001b[43m,\u001b[49m\u001b[43m \u001b[49m\u001b[43mtimer_starter\u001b[49m\u001b[38;5;241;43m=\u001b[39;49m\u001b[43m \u001b[49m\u001b[43mtimer_starter\u001b[49m\u001b[43m,\u001b[49m\u001b[43m \u001b[49m\u001b[43mtimer_ender\u001b[49m\u001b[38;5;241;43m=\u001b[39;49m\u001b[43mtimer_ender\u001b[49m\u001b[43m,\u001b[49m\u001b[43mtimings\u001b[49m\u001b[38;5;241;43m=\u001b[39;49m\u001b[43mtimings\u001b[49m\u001b[43m)\u001b[49m\n\u001b[0;32m    154\u001b[0m     \u001b[38;5;28mself\u001b[39m\u001b[38;5;241m.\u001b[39mtrain_loss_plot\u001b[38;5;241m.\u001b[39mappend(train_loss)\n\u001b[0;32m    155\u001b[0m     \u001b[38;5;28mself\u001b[39m\u001b[38;5;241m.\u001b[39mvalid_loss_plot\u001b[38;5;241m.\u001b[39mappend(valid_loss)\n",
      "File \u001b[1;32mc:\\Users\\Natsu\\OneDrive\\Bureau\\Deep_fake_Project\\audioDeepFake\\Notebooks\\utils.py:124\u001b[0m, in \u001b[0;36mModelTrainer.run_epoch\u001b[1;34m(self, train_loader, valid_loader, timer_starter, timer_ender, timings)\u001b[0m\n\u001b[0;32m    121\u001b[0m \u001b[38;5;28;01mdef\u001b[39;00m \u001b[38;5;21mrun_epoch\u001b[39m(\u001b[38;5;28mself\u001b[39m,train_loader,valid_loader,timer_starter \u001b[38;5;241m=\u001b[39m \u001b[38;5;28;01mNone\u001b[39;00m, timer_ender \u001b[38;5;241m=\u001b[39m \u001b[38;5;28;01mNone\u001b[39;00m, timings \u001b[38;5;241m=\u001b[39m \u001b[38;5;28;01mNone\u001b[39;00m):\n\u001b[0;32m    122\u001b[0m \u001b[38;5;250m    \u001b[39m\u001b[38;5;124;03m\"\"\" Run training and validation for one epoch. \"\"\"\u001b[39;00m\n\u001b[1;32m--> 124\u001b[0m     train_losses, train_accuracy \u001b[38;5;241m=\u001b[39m \u001b[38;5;28;43mself\u001b[39;49m\u001b[38;5;241;43m.\u001b[39;49m\u001b[43mrun_model\u001b[49m\u001b[43m(\u001b[49m\u001b[43mtrain_loader\u001b[49m\u001b[43m,\u001b[49m\u001b[43mtimer_starter\u001b[49m\u001b[43m,\u001b[49m\u001b[43m \u001b[49m\u001b[43mtimer_ender\u001b[49m\u001b[43m,\u001b[49m\u001b[43mtimings\u001b[49m\u001b[43m,\u001b[49m\u001b[43m \u001b[49m\u001b[43mmode\u001b[49m\u001b[38;5;241;43m=\u001b[39;49m\u001b[38;5;124;43m'\u001b[39;49m\u001b[38;5;124;43mtrain\u001b[39;49m\u001b[38;5;124;43m'\u001b[39;49m\u001b[43m)\u001b[49m\n\u001b[0;32m    125\u001b[0m     valid_losses, valid_accuracy \u001b[38;5;241m=\u001b[39m \u001b[38;5;28mself\u001b[39m\u001b[38;5;241m.\u001b[39mrun_model(valid_loader, mode\u001b[38;5;241m=\u001b[39m\u001b[38;5;124m'\u001b[39m\u001b[38;5;124meval\u001b[39m\u001b[38;5;124m'\u001b[39m)\n\u001b[0;32m    127\u001b[0m     avg_train_loss \u001b[38;5;241m=\u001b[39m np\u001b[38;5;241m.\u001b[39mmean(train_losses)\n",
      "File \u001b[1;32mc:\\Users\\Natsu\\OneDrive\\Bureau\\Deep_fake_Project\\audioDeepFake\\Notebooks\\utils.py:84\u001b[0m, in \u001b[0;36mModelTrainer.run_model\u001b[1;34m(self, loader, timer_starter, timer_ender, timings, mode)\u001b[0m\n\u001b[0;32m     80\u001b[0m losses \u001b[38;5;241m=\u001b[39m []\n\u001b[0;32m     81\u001b[0m accuracies \u001b[38;5;241m=\u001b[39m []\n\u001b[1;32m---> 84\u001b[0m \u001b[38;5;28;01mfor\u001b[39;00m data, target,\u001b[38;5;28mid\u001b[39m \u001b[38;5;129;01min\u001b[39;00m loader:\n\u001b[0;32m     85\u001b[0m     data_batch_shape \u001b[38;5;241m=\u001b[39m data\u001b[38;5;241m.\u001b[39mshape[\u001b[38;5;241m0\u001b[39m]\n\u001b[0;32m     86\u001b[0m     data \u001b[38;5;241m=\u001b[39m torch\u001b[38;5;241m.\u001b[39mmean(data, dim\u001b[38;5;241m=\u001b[39m\u001b[38;5;241m1\u001b[39m)\u001b[38;5;241m.\u001b[39mview(data_batch_shape, \u001b[38;5;241m1\u001b[39m, data\u001b[38;5;241m.\u001b[39mshape[\u001b[38;5;241m2\u001b[39m])\n",
      "File \u001b[1;32mc:\\Users\\Natsu\\Anaconda3\\lib\\site-packages\\torch\\utils\\data\\dataloader.py:630\u001b[0m, in \u001b[0;36m_BaseDataLoaderIter.__next__\u001b[1;34m(self)\u001b[0m\n\u001b[0;32m    627\u001b[0m \u001b[38;5;28;01mif\u001b[39;00m \u001b[38;5;28mself\u001b[39m\u001b[38;5;241m.\u001b[39m_sampler_iter \u001b[38;5;129;01mis\u001b[39;00m \u001b[38;5;28;01mNone\u001b[39;00m:\n\u001b[0;32m    628\u001b[0m     \u001b[38;5;66;03m# TODO(https://github.com/pytorch/pytorch/issues/76750)\u001b[39;00m\n\u001b[0;32m    629\u001b[0m     \u001b[38;5;28mself\u001b[39m\u001b[38;5;241m.\u001b[39m_reset()  \u001b[38;5;66;03m# type: ignore[call-arg]\u001b[39;00m\n\u001b[1;32m--> 630\u001b[0m data \u001b[38;5;241m=\u001b[39m \u001b[38;5;28;43mself\u001b[39;49m\u001b[38;5;241;43m.\u001b[39;49m\u001b[43m_next_data\u001b[49m\u001b[43m(\u001b[49m\u001b[43m)\u001b[49m\n\u001b[0;32m    631\u001b[0m \u001b[38;5;28mself\u001b[39m\u001b[38;5;241m.\u001b[39m_num_yielded \u001b[38;5;241m+\u001b[39m\u001b[38;5;241m=\u001b[39m \u001b[38;5;241m1\u001b[39m\n\u001b[0;32m    632\u001b[0m \u001b[38;5;28;01mif\u001b[39;00m \u001b[38;5;28mself\u001b[39m\u001b[38;5;241m.\u001b[39m_dataset_kind \u001b[38;5;241m==\u001b[39m _DatasetKind\u001b[38;5;241m.\u001b[39mIterable \u001b[38;5;129;01mand\u001b[39;00m \\\n\u001b[0;32m    633\u001b[0m         \u001b[38;5;28mself\u001b[39m\u001b[38;5;241m.\u001b[39m_IterableDataset_len_called \u001b[38;5;129;01mis\u001b[39;00m \u001b[38;5;129;01mnot\u001b[39;00m \u001b[38;5;28;01mNone\u001b[39;00m \u001b[38;5;129;01mand\u001b[39;00m \\\n\u001b[0;32m    634\u001b[0m         \u001b[38;5;28mself\u001b[39m\u001b[38;5;241m.\u001b[39m_num_yielded \u001b[38;5;241m>\u001b[39m \u001b[38;5;28mself\u001b[39m\u001b[38;5;241m.\u001b[39m_IterableDataset_len_called:\n",
      "File \u001b[1;32mc:\\Users\\Natsu\\Anaconda3\\lib\\site-packages\\torch\\utils\\data\\dataloader.py:674\u001b[0m, in \u001b[0;36m_SingleProcessDataLoaderIter._next_data\u001b[1;34m(self)\u001b[0m\n\u001b[0;32m    672\u001b[0m \u001b[38;5;28;01mdef\u001b[39;00m \u001b[38;5;21m_next_data\u001b[39m(\u001b[38;5;28mself\u001b[39m):\n\u001b[0;32m    673\u001b[0m     index \u001b[38;5;241m=\u001b[39m \u001b[38;5;28mself\u001b[39m\u001b[38;5;241m.\u001b[39m_next_index()  \u001b[38;5;66;03m# may raise StopIteration\u001b[39;00m\n\u001b[1;32m--> 674\u001b[0m     data \u001b[38;5;241m=\u001b[39m \u001b[38;5;28;43mself\u001b[39;49m\u001b[38;5;241;43m.\u001b[39;49m\u001b[43m_dataset_fetcher\u001b[49m\u001b[38;5;241;43m.\u001b[39;49m\u001b[43mfetch\u001b[49m\u001b[43m(\u001b[49m\u001b[43mindex\u001b[49m\u001b[43m)\u001b[49m  \u001b[38;5;66;03m# may raise StopIteration\u001b[39;00m\n\u001b[0;32m    675\u001b[0m     \u001b[38;5;28;01mif\u001b[39;00m \u001b[38;5;28mself\u001b[39m\u001b[38;5;241m.\u001b[39m_pin_memory:\n\u001b[0;32m    676\u001b[0m         data \u001b[38;5;241m=\u001b[39m _utils\u001b[38;5;241m.\u001b[39mpin_memory\u001b[38;5;241m.\u001b[39mpin_memory(data, \u001b[38;5;28mself\u001b[39m\u001b[38;5;241m.\u001b[39m_pin_memory_device)\n",
      "File \u001b[1;32mc:\\Users\\Natsu\\Anaconda3\\lib\\site-packages\\torch\\utils\\data\\_utils\\fetch.py:54\u001b[0m, in \u001b[0;36m_MapDatasetFetcher.fetch\u001b[1;34m(self, possibly_batched_index)\u001b[0m\n\u001b[0;32m     52\u001b[0m \u001b[38;5;28;01melse\u001b[39;00m:\n\u001b[0;32m     53\u001b[0m     data \u001b[38;5;241m=\u001b[39m \u001b[38;5;28mself\u001b[39m\u001b[38;5;241m.\u001b[39mdataset[possibly_batched_index]\n\u001b[1;32m---> 54\u001b[0m \u001b[38;5;28;01mreturn\u001b[39;00m \u001b[38;5;28;43mself\u001b[39;49m\u001b[38;5;241;43m.\u001b[39;49m\u001b[43mcollate_fn\u001b[49m\u001b[43m(\u001b[49m\u001b[43mdata\u001b[49m\u001b[43m)\u001b[49m\n",
      "File \u001b[1;32mc:\\Users\\Natsu\\Anaconda3\\lib\\site-packages\\torch\\utils\\data\\_utils\\collate.py:265\u001b[0m, in \u001b[0;36mdefault_collate\u001b[1;34m(batch)\u001b[0m\n\u001b[0;32m    204\u001b[0m \u001b[38;5;28;01mdef\u001b[39;00m \u001b[38;5;21mdefault_collate\u001b[39m(batch):\n\u001b[0;32m    205\u001b[0m \u001b[38;5;250m    \u001b[39m\u001b[38;5;124mr\u001b[39m\u001b[38;5;124;03m\"\"\"\u001b[39;00m\n\u001b[0;32m    206\u001b[0m \u001b[38;5;124;03m        Function that takes in a batch of data and puts the elements within the batch\u001b[39;00m\n\u001b[0;32m    207\u001b[0m \u001b[38;5;124;03m        into a tensor with an additional outer dimension - batch size. The exact output type can be\u001b[39;00m\n\u001b[1;32m   (...)\u001b[0m\n\u001b[0;32m    263\u001b[0m \u001b[38;5;124;03m            >>> default_collate(batch)  # Handle `CustomType` automatically\u001b[39;00m\n\u001b[0;32m    264\u001b[0m \u001b[38;5;124;03m    \"\"\"\u001b[39;00m\n\u001b[1;32m--> 265\u001b[0m     \u001b[38;5;28;01mreturn\u001b[39;00m \u001b[43mcollate\u001b[49m\u001b[43m(\u001b[49m\u001b[43mbatch\u001b[49m\u001b[43m,\u001b[49m\u001b[43m \u001b[49m\u001b[43mcollate_fn_map\u001b[49m\u001b[38;5;241;43m=\u001b[39;49m\u001b[43mdefault_collate_fn_map\u001b[49m\u001b[43m)\u001b[49m\n",
      "File \u001b[1;32mc:\\Users\\Natsu\\Anaconda3\\lib\\site-packages\\torch\\utils\\data\\_utils\\collate.py:142\u001b[0m, in \u001b[0;36mcollate\u001b[1;34m(batch, collate_fn_map)\u001b[0m\n\u001b[0;32m    139\u001b[0m transposed \u001b[38;5;241m=\u001b[39m \u001b[38;5;28mlist\u001b[39m(\u001b[38;5;28mzip\u001b[39m(\u001b[38;5;241m*\u001b[39mbatch))  \u001b[38;5;66;03m# It may be accessed twice, so we use a list.\u001b[39;00m\n\u001b[0;32m    141\u001b[0m \u001b[38;5;28;01mif\u001b[39;00m \u001b[38;5;28misinstance\u001b[39m(elem, \u001b[38;5;28mtuple\u001b[39m):\n\u001b[1;32m--> 142\u001b[0m     \u001b[38;5;28;01mreturn\u001b[39;00m [collate(samples, collate_fn_map\u001b[38;5;241m=\u001b[39mcollate_fn_map) \u001b[38;5;28;01mfor\u001b[39;00m samples \u001b[38;5;129;01min\u001b[39;00m transposed]  \u001b[38;5;66;03m# Backwards compatibility.\u001b[39;00m\n\u001b[0;32m    143\u001b[0m \u001b[38;5;28;01melse\u001b[39;00m:\n\u001b[0;32m    144\u001b[0m     \u001b[38;5;28;01mtry\u001b[39;00m:\n",
      "File \u001b[1;32mc:\\Users\\Natsu\\Anaconda3\\lib\\site-packages\\torch\\utils\\data\\_utils\\collate.py:142\u001b[0m, in \u001b[0;36m<listcomp>\u001b[1;34m(.0)\u001b[0m\n\u001b[0;32m    139\u001b[0m transposed \u001b[38;5;241m=\u001b[39m \u001b[38;5;28mlist\u001b[39m(\u001b[38;5;28mzip\u001b[39m(\u001b[38;5;241m*\u001b[39mbatch))  \u001b[38;5;66;03m# It may be accessed twice, so we use a list.\u001b[39;00m\n\u001b[0;32m    141\u001b[0m \u001b[38;5;28;01mif\u001b[39;00m \u001b[38;5;28misinstance\u001b[39m(elem, \u001b[38;5;28mtuple\u001b[39m):\n\u001b[1;32m--> 142\u001b[0m     \u001b[38;5;28;01mreturn\u001b[39;00m [\u001b[43mcollate\u001b[49m\u001b[43m(\u001b[49m\u001b[43msamples\u001b[49m\u001b[43m,\u001b[49m\u001b[43m \u001b[49m\u001b[43mcollate_fn_map\u001b[49m\u001b[38;5;241;43m=\u001b[39;49m\u001b[43mcollate_fn_map\u001b[49m\u001b[43m)\u001b[49m \u001b[38;5;28;01mfor\u001b[39;00m samples \u001b[38;5;129;01min\u001b[39;00m transposed]  \u001b[38;5;66;03m# Backwards compatibility.\u001b[39;00m\n\u001b[0;32m    143\u001b[0m \u001b[38;5;28;01melse\u001b[39;00m:\n\u001b[0;32m    144\u001b[0m     \u001b[38;5;28;01mtry\u001b[39;00m:\n",
      "File \u001b[1;32mc:\\Users\\Natsu\\Anaconda3\\lib\\site-packages\\torch\\utils\\data\\_utils\\collate.py:119\u001b[0m, in \u001b[0;36mcollate\u001b[1;34m(batch, collate_fn_map)\u001b[0m\n\u001b[0;32m    117\u001b[0m \u001b[38;5;28;01mif\u001b[39;00m collate_fn_map \u001b[38;5;129;01mis\u001b[39;00m \u001b[38;5;129;01mnot\u001b[39;00m \u001b[38;5;28;01mNone\u001b[39;00m:\n\u001b[0;32m    118\u001b[0m     \u001b[38;5;28;01mif\u001b[39;00m elem_type \u001b[38;5;129;01min\u001b[39;00m collate_fn_map:\n\u001b[1;32m--> 119\u001b[0m         \u001b[38;5;28;01mreturn\u001b[39;00m \u001b[43mcollate_fn_map\u001b[49m\u001b[43m[\u001b[49m\u001b[43melem_type\u001b[49m\u001b[43m]\u001b[49m\u001b[43m(\u001b[49m\u001b[43mbatch\u001b[49m\u001b[43m,\u001b[49m\u001b[43m \u001b[49m\u001b[43mcollate_fn_map\u001b[49m\u001b[38;5;241;43m=\u001b[39;49m\u001b[43mcollate_fn_map\u001b[49m\u001b[43m)\u001b[49m\n\u001b[0;32m    121\u001b[0m     \u001b[38;5;28;01mfor\u001b[39;00m collate_type \u001b[38;5;129;01min\u001b[39;00m collate_fn_map:\n\u001b[0;32m    122\u001b[0m         \u001b[38;5;28;01mif\u001b[39;00m \u001b[38;5;28misinstance\u001b[39m(elem, collate_type):\n",
      "File \u001b[1;32mc:\\Users\\Natsu\\Anaconda3\\lib\\site-packages\\torch\\utils\\data\\_utils\\collate.py:162\u001b[0m, in \u001b[0;36mcollate_tensor_fn\u001b[1;34m(batch, collate_fn_map)\u001b[0m\n\u001b[0;32m    160\u001b[0m     storage \u001b[38;5;241m=\u001b[39m elem\u001b[38;5;241m.\u001b[39m_typed_storage()\u001b[38;5;241m.\u001b[39m_new_shared(numel, device\u001b[38;5;241m=\u001b[39melem\u001b[38;5;241m.\u001b[39mdevice)\n\u001b[0;32m    161\u001b[0m     out \u001b[38;5;241m=\u001b[39m elem\u001b[38;5;241m.\u001b[39mnew(storage)\u001b[38;5;241m.\u001b[39mresize_(\u001b[38;5;28mlen\u001b[39m(batch), \u001b[38;5;241m*\u001b[39m\u001b[38;5;28mlist\u001b[39m(elem\u001b[38;5;241m.\u001b[39msize()))\n\u001b[1;32m--> 162\u001b[0m \u001b[38;5;28;01mreturn\u001b[39;00m \u001b[43mtorch\u001b[49m\u001b[38;5;241;43m.\u001b[39;49m\u001b[43mstack\u001b[49m\u001b[43m(\u001b[49m\u001b[43mbatch\u001b[49m\u001b[43m,\u001b[49m\u001b[43m \u001b[49m\u001b[38;5;241;43m0\u001b[39;49m\u001b[43m,\u001b[49m\u001b[43m \u001b[49m\u001b[43mout\u001b[49m\u001b[38;5;241;43m=\u001b[39;49m\u001b[43mout\u001b[49m\u001b[43m)\u001b[49m\n",
      "\u001b[1;31mKeyboardInterrupt\u001b[0m: "
     ]
    }
   ],
   "source": [
    "hparams.parse_argument(args=[\"--batch_size\", \"128\", \"--learning_rate\",\"0.0007\", \"--momentum\",\"0.9\", \"--num_epochs\", \"100\",\"--threshold\",\"0.5\"])\n",
    "\n",
    "train_loader,eval_loader,valid_loader = DataSplitLoader(data_final= data_final, hparams=hparams, embedding_type='vggish')\n",
    "\n",
    "n_channels = 128\n",
    "device = torch.device(\"cuda\" if torch.cuda.is_available() else \"cpu\") \n",
    "model_MLP = MLP_Classifier(n_channels,512,1).to(device)\n",
    "name_model = 'model_MLP_vgg'\n",
    "timer_starter, timer_ender = torch.cuda.Event(enable_timing=True), torch.cuda.Event(enable_timing=True)\n",
    "runs = 10\n",
    "interval_length = 10\n",
    "model_runs_dir = 'models_pann-wavegram_MLP'\n",
    "models_infos = []\n",
    "\n",
    "\n",
    "model_flops_MLP = MLP_Classifier(n_channels,n_channels,1)\n",
    "input = torch.randn(hparams.batch_size,1,n_channels)  \n",
    "\n",
    "\n",
    "flops_MLP, params = flopth(model_flops_MLP, inputs=(input,), show_detail=True)\n",
    "print(f\"Flops :{flops_MLP}\")\n",
    "\n",
    "\n",
    "\n",
    "for run in trange(runs):\n",
    "    model_MLP = MLP_Classifier(n_channels,512,1).to(device)\n",
    "    timings = []\n",
    "\n",
    "    optimizer = optim.Adam(model_MLP.parameters(), lr = hparams.learning_rate)\n",
    "    loss_function = nn.BCEWithLogitsLoss()\n",
    "    scheduler=ReduceLROnPlateau(optimizer, mode='max', factor=hparams.factor, patience=hparams.patience, verbose=True)\n",
    "\n",
    "    clf = ModelTrainer(model=model_MLP,optimizer=optimizer,loss_function=loss_function,hparams=hparams,scheduler=scheduler,verbose=True)\n",
    "\n",
    "    # gpu_warm_up\n",
    "    clf.warm_up_gpu(train_loader)\n",
    "    # training model\n",
    "    clf.train(train_loader=train_loader,valid_loader=valid_loader,timer_starter= timer_starter, timer_ender=timer_ender,timings = timings,name_model='model_MLP_vgg')\n",
    "    # picking best model by best valid acc + save \n",
    "    model_MLP_best = clf.best_model()\n",
    "    torch.save(model_MLP_best, f\"./{model_runs_dir}/model_MLP_{run+1}.pth\")\n",
    "    # predictions on evaluation set\n",
    "    true_labels, pred_labels = clf.predict(model=model_MLP_best,loader=eval_loader)\n",
    "    accuracy = accuracy_score(true_labels, pred_labels)\n",
    "    conf_matrix = confusion_matrix(true_labels, pred_labels)\n",
    "\n",
    "    # save results for the best model\n",
    "    os.makedirs(model_runs_dir, exist_ok=True)\n",
    "    models_infos.append({'Model number': f'Model_MLP_pann_{run+1}',\n",
    "                'Eval Accuracy': accuracy * 100 ,\n",
    "                'Confusion Matrix': conf_matrix,\n",
    "                'Epoch': clf.max_acc_epoch,\n",
    "                'Valid Accuracy': clf.max_acc_value * 100 ,\n",
    "                'Time/epoch' : np.mean(timings)/1000})\n",
    "    models_infos = pd.DataFrame(models_infos)\n",
    "    models_infos.to_pickle(f'./{model_runs_dir}/model_infos.pkl')"
   ]
  },
  {
   "cell_type": "code",
   "execution_count": 37,
   "metadata": {},
   "outputs": [
    {
     "data": {
      "image/png": "[encoded data removed]",
      "text/plain": [
       "<Figure size 1200x500 with 2 Axes>"
      ]
     },
     "metadata": {},
     "output_type": "display_data"
    }
   ],
   "source": [
    "fig, axs = plt.subplots(1, 2, figsize=(12, 5))  \n",
    "color_palette = ['#377eb8', '#ff7f00', '#4daf4a',\n",
    "                  '#f781bf', '#a65628', '#984ea3',\n",
    "                  '#999999', '#e41a1c', '#dede00']\n",
    "# color_palette = plt.rcParams['axes.prop_cycle'].by_key()['color']\n",
    "\n",
    "axs[0].plot(np.array(clf.train_acc_plot), label='Train Accuracy', color=color_palette[8])\n",
    "axs[0].plot(np.array(clf.valid_acc_plot), label='Validation Accuracy', color=color_palette[7])\n",
    "axs[0].set_title(f'Training and Validation Accuracy at Learning Rate: {hparams.learning_rate}')\n",
    "axs[0].set_xlabel('Epochs')\n",
    "axs[0].set_ylabel('Accuracy')\n",
    "axs[0].legend()\n",
    "axs[0].grid(True)\n",
    "\n",
    "axs[1].plot(np.array(clf.train_loss_plot), label='Train Loss', color=color_palette[8])\n",
    "axs[1].plot(np.array(clf.valid_loss_plot), label='Validation Loss', color=color_palette[7])\n",
    "axs[1].set_title(f'Training and Validation Loss at Learning Rate: {hparams.learning_rate}')\n",
    "axs[1].set_xlabel('Epochs')\n",
    "axs[1].set_ylabel('Loss')\n",
    "axs[1].legend()\n",
    "axs[1].grid(True)\n",
    "\n",
    "plt.tight_layout()\n",
    "plt.show()\n"
   ]
  },
  {
   "cell_type": "markdown",
   "metadata": {},
   "source": [
    "## Prediction on Evaluation set + Confusion Matrix computation"
   ]
  },
  {
   "cell_type": "code",
   "execution_count": 38,
   "metadata": {},
   "outputs": [
    {
     "ename": "NameError",
     "evalue": "name 'accuracy' is not defined",
     "output_type": "error",
     "traceback": [
      "\u001b[1;31m---------------------------------------------------------------------------\u001b[0m",
      "\u001b[1;31mNameError\u001b[0m                                 Traceback (most recent call last)",
      "Cell \u001b[1;32mIn[38], line 1\u001b[0m\n\u001b[1;32m----> 1\u001b[0m \u001b[43maccuracy\u001b[49m\n",
      "\u001b[1;31mNameError\u001b[0m: name 'accuracy' is not defined"
     ]
    }
   ],
   "source": [
    "print(f'Accuracy: {accuracy * 100:.2f}%')\n",
    "print('Confusion Matrix:\\n', conf_matrix)"
   ]
  }
 ],
 "metadata": {
  "kernelspec": {
   "display_name": "base",
   "language": "python",
   "name": "python3"
  },
  "language_info": {
   "codemirror_mode": {
    "name": "ipython",
    "version": 3
   },
   "file_extension": ".py",
   "mimetype": "text/x-python",
   "name": "python",
   "nbconvert_exporter": "python",
   "pygments_lexer": "ipython3",
   "version": "3.10.9"
  }
 },
 "nbformat": 4,
 "nbformat_minor": 2
}
