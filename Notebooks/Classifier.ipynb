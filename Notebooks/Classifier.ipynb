{
 "cells": [
  {
   "cell_type": "markdown",
   "metadata": {},
   "source": [
    "## Import librairies"
   ]
  },
  {
   "cell_type": "code",
   "execution_count": 1,
   "metadata": {},
   "outputs": [
    {
     "name": "stdout",
     "output_type": "stream",
     "text": [
      "Looking in indexes: https://download.pytorch.org/whl/cu121\n",
      "Requirement already satisfied: torch in c:\\users\\natsu\\anaconda3\\lib\\site-packages (1.12.1)\n",
      "Collecting torchvision\n",
      "  Downloading https://download.pytorch.org/whl/cu121/torchvision-0.16.1%2Bcu121-cp310-cp310-win_amd64.whl (5.6 MB)\n",
      "     ---------------------------------------- 5.6/5.6 MB 1.8 MB/s eta 0:00:00\n",
      "Collecting torchaudio\n",
      "  Downloading https://download.pytorch.org/whl/cu121/torchaudio-2.1.1%2Bcu121-cp310-cp310-win_amd64.whl (4.0 MB)\n",
      "     ---------------------------------------- 4.0/4.0 MB 1.4 MB/s eta 0:00:00\n",
      "Requirement already satisfied: typing_extensions in c:\\users\\natsu\\anaconda3\\lib\\site-packages (from torch) (4.4.0)\n",
      "Requirement already satisfied: numpy in c:\\users\\natsu\\anaconda3\\lib\\site-packages (from torchvision) (1.23.5)\n",
      "Requirement already satisfied: pillow!=8.3.*,>=5.3.0 in c:\\users\\natsu\\anaconda3\\lib\\site-packages (from torchvision) (9.4.0)\n",
      "Collecting torch\n",
      "  Downloading https://download.pytorch.org/whl/cu121/torch-2.1.1%2Bcu121-cp310-cp310-win_amd64.whl (2473.9 MB)\n",
      "     ---------------------------------------- 2.5/2.5 GB 135.6 kB/s eta 0:00:00\n",
      "Requirement already satisfied: requests in c:\\users\\natsu\\anaconda3\\lib\\site-packages (from torchvision) (2.28.1)\n",
      "Requirement already satisfied: networkx in c:\\users\\natsu\\anaconda3\\lib\\site-packages (from torch) (2.8.4)\n",
      "Requirement already satisfied: sympy in c:\\users\\natsu\\anaconda3\\lib\\site-packages (from torch) (1.11.1)\n",
      "Requirement already satisfied: jinja2 in c:\\users\\natsu\\anaconda3\\lib\\site-packages (from torch) (3.1.2)\n",
      "Requirement already satisfied: filelock in c:\\users\\natsu\\anaconda3\\lib\\site-packages (from torch) (3.9.0)\n",
      "Requirement already satisfied: fsspec in c:\\users\\natsu\\anaconda3\\lib\\site-packages (from torch) (2022.11.0)\n",
      "Requirement already satisfied: MarkupSafe>=2.0 in c:\\users\\natsu\\anaconda3\\lib\\site-packages (from jinja2->torch) (2.1.1)\n",
      "Requirement already satisfied: charset-normalizer<3,>=2 in c:\\users\\natsu\\anaconda3\\lib\\site-packages (from requests->torchvision) (2.0.4)\n",
      "Requirement already satisfied: urllib3<1.27,>=1.21.1 in c:\\users\\natsu\\anaconda3\\lib\\site-packages (from requests->torchvision) (1.26.14)\n",
      "Requirement already satisfied: idna<4,>=2.5 in c:\\users\\natsu\\anaconda3\\lib\\site-packages (from requests->torchvision) (3.4)\n",
      "Requirement already satisfied: certifi>=2017.4.17 in c:\\users\\natsu\\anaconda3\\lib\\site-packages (from requests->torchvision) (2022.12.7)\n",
      "Requirement already satisfied: mpmath>=0.19 in c:\\users\\natsu\\anaconda3\\lib\\site-packages (from sympy->torch) (1.2.1)\n",
      "Installing collected packages: torch, torchvision, torchaudio\n",
      "  Attempting uninstall: torch\n",
      "    Found existing installation: torch 1.12.1\n",
      "    Uninstalling torch-1.12.1:\n",
      "      Successfully uninstalled torch-1.12.1\n",
      "Successfully installed torch-2.1.1+cu121 torchaudio-2.1.1+cu121 torchvision-0.16.1+cu121\n"
     ]
    }
   ],
   "source": [
    "!pip3 install torch torchvision torchaudio --index-url https://download.pytorch.org/whl/cu121"
   ]
  },
  {
   "cell_type": "code",
   "execution_count": 2,
   "metadata": {},
   "outputs": [],
   "source": [
    "import torch\n",
    "import numpy as np \n",
    "import os\n",
    "import pandas as pd\n",
    "import tqdm \n",
    "from tqdm import tqdm, trange\n",
    "\n",
    "from sklearn.metrics import accuracy_score, confusion_matrix\n",
    "\n",
    "\n",
    "import torch\n",
    "import torch.nn as nn\n",
    "import torch.nn.functional as F\n",
    "import torch.optim as optim\n",
    "\n",
    "\n",
    "from torch.optim.lr_scheduler import ReduceLROnPlateau\n",
    "from torch.utils.data import DataLoader, TensorDataset\n",
    "from sklearn.model_selection import train_test_split\n",
    "from torch.utils.data import WeightedRandomSampler\n",
    "\n",
    "from utils import run_model_eval, run_model\n",
    "from models.cnn import CNNClassifier\n",
    "from utils import is_early_stopping"
   ]
  },
  {
   "cell_type": "code",
   "execution_count": 5,
   "metadata": {},
   "outputs": [],
   "source": [
    "# Run if File pickle already exists in folder\n",
    "import pickle\n",
    "\n",
    "with open('./DeepFake_Real_Sounds.pkl', 'rb') as file:\n",
    "    data_final = pickle.load(file)\n"
   ]
  },
  {
   "cell_type": "code",
   "execution_count": 56,
   "metadata": {},
   "outputs": [
    {
     "name": "stdout",
     "output_type": "stream",
     "text": [
      "128.0\n"
     ]
    }
   ],
   "source": [
    "# stride=1\n",
    "# padding=1\n",
    "# kernel_size=3\n",
    "# dilation=1\n",
    "# l_in=128\n",
    "# formula=((l_in +2*padding -dilation*(kernel_size-1)-1)/stride) +1\n",
    "# print(formula)"
   ]
  },
  {
   "cell_type": "markdown",
   "metadata": {},
   "source": [
    "## Train, Test and Eval Splits with a weighted oversampling on the training set"
   ]
  },
  {
   "cell_type": "code",
   "execution_count": 46,
   "metadata": {},
   "outputs": [],
   "source": [
    "embeddings = np.array(data_final['embedding'].tolist())\n",
    "labels = (data_final['label']).values\n",
    "\n",
    "\n",
    "\n",
    "X_train, X_test, y_train, y_test = train_test_split(embeddings, labels, test_size=0.1, random_state=42)\n",
    "\n",
    "X_train, X_eval, y_train, y_eval = train_test_split(X_train, y_train, test_size=0.22, random_state=42)\n",
    "\n",
    "\n",
    "X_train_tensor = torch.tensor(X_train, dtype=torch.float32)\n",
    "X_eval_tensor = torch.tensor(X_eval, dtype=torch.float32)\n",
    "X_test_tensor = torch.tensor(X_test, dtype=torch.float32)\n",
    "\n",
    "y_train_tensor = torch.tensor(y_train, dtype=torch.float32).view(-1,1)\n",
    "y_eval_tensor = torch.tensor(y_eval, dtype=torch.float32).view(-1,1)\n",
    "y_test_tensor = torch.tensor(y_test, dtype=torch.float32).view(-1,1)\n",
    "\n",
    "train_dataset = TensorDataset(X_train_tensor, y_train_tensor)\n",
    "eval_dataset = TensorDataset(X_eval_tensor, y_eval_tensor)\n",
    "test_dataset = TensorDataset(X_test_tensor, y_test_tensor)\n",
    "\n",
    "# DataLoader\n",
    "batch_size = 32\n",
    "class_sample_count = np.array([len(np.where(y_train == t)[0]) for t in np.unique(y_train)])\n",
    "weights = 1. / class_sample_count\n",
    "samples_weights = np.array([weights[t] for t in y_train])\n",
    "\n",
    "sampler = WeightedRandomSampler(weights=samples_weights, num_samples=len(samples_weights), replacement=True)\n",
    "\n",
    "train_loader = DataLoader(dataset=train_dataset, batch_size=batch_size, sampler=sampler)\n",
    "eval_loader = DataLoader(dataset=eval_dataset, batch_size=batch_size, shuffle=False)\n",
    "test_loader = DataLoader(dataset=test_dataset, batch_size=batch_size, shuffle=False)"
   ]
  },
  {
   "cell_type": "markdown",
   "metadata": {},
   "source": [
    "## Ratio of each Class"
   ]
  },
  {
   "cell_type": "markdown",
   "metadata": {},
   "source": [
    "Here we check that our oversampling in the training set was succesfully done, what is expected is to have a 50/50 distribution of the classes in the training set"
   ]
  },
  {
   "cell_type": "code",
   "execution_count": 130,
   "metadata": {},
   "outputs": [
    {
     "name": "stdout",
     "output_type": "stream",
     "text": [
      "Pourcentage de labels 0 : 49.95%\n",
      "Pourcentage de labels 1 : 50.05%\n"
     ]
    }
   ],
   "source": [
    "count_label_0 = 0\n",
    "count_label_1 = 0\n",
    "\n",
    "\n",
    "for _, labels in train_loader:\n",
    "    count_label_0 += torch.sum(labels == 0)\n",
    "    count_label_1 += torch.sum(labels == 1)\n",
    "\n",
    "\n",
    "total_labels = count_label_0 + count_label_1\n",
    "\n",
    "percentage_label_0 = (count_label_0 / total_labels) * 100\n",
    "percentage_label_1 = (count_label_1 / total_labels) * 100\n",
    "\n",
    "print(f\"Pourcentage de labels 0 : {percentage_label_0:.2f}%\")\n",
    "print(f\"Pourcentage de labels 1 : {percentage_label_1:.2f}%\")\n"
   ]
  },
  {
   "cell_type": "markdown",
   "metadata": {},
   "source": [
    "We then put our system in the GPU mode in order to execute operations in a faster way, the GPU device used here is a RTX 3060 LAPTOP GPU"
   ]
  },
  {
   "cell_type": "code",
   "execution_count": 48,
   "metadata": {},
   "outputs": [
    {
     "data": {
      "text/plain": [
       "device(type='cuda')"
      ]
     },
     "execution_count": 48,
     "metadata": {},
     "output_type": "execute_result"
    }
   ],
   "source": [
    "device = torch.device(\"cuda\" if torch.cuda.is_available() else \"cpu\")\n",
    "device"
   ]
  },
  {
   "cell_type": "markdown",
   "metadata": {},
   "source": [
    "## Training of the CNNClassifier"
   ]
  },
  {
   "cell_type": "code",
   "execution_count": 172,
   "metadata": {},
   "outputs": [
    {
     "name": "stdout",
     "output_type": "stream",
     "text": [
      "+---------------+---------------+------------+-------------+------------------------------+----------+------------------+-------------------------------+----------+-----------------+--------------------------------------------------+\n",
      "| module_name   | module_type   | in_shape   | out_shape   | kernel_size,padding,stride   | params   | params_percent   | params_percent_vis            | flops    | flops_percent   | flops_percent_vis                                |\n",
      "+===============+===============+============+=============+==============================+==========+==================+===============================+==========+=================+==================================================+\n",
      "| conv1         | Conv1d        | (1,128)    | (64,128)    | k=(3,), p=(1,), s=(1,)       | 256.0    | 1.22318%         |                               | 1.04858M | 2.0%            | #                                                |\n",
      "+---------------+---------------+------------+-------------+------------------------------+----------+------------------+-------------------------------+----------+-----------------+--------------------------------------------------+\n",
      "| conv2         | Conv1d        | (64,128)   | (64,128)    | k=(3,), p=(1,), s=(1,)       | 12.352K  | 59.0186%         | ############################# | 50.5938M | 96.5%           | ################################################ |\n",
      "+---------------+---------------+------------+-------------+------------------------------+----------+------------------+-------------------------------+----------+-----------------+--------------------------------------------------+\n",
      "| bn1           | BatchNorm1d   | (64,128)   | (64,128)    |                              | 128.0    | 0.611592%        |                               | 524.288K | 1.0%            |                                                  |\n",
      "+---------------+---------------+------------+-------------+------------------------------+----------+------------------+-------------------------------+----------+-----------------+--------------------------------------------------+\n",
      "| drop          | Dropout       | (64,128)   | (64,128)    |                              | 0.0      | 0.0%             |                               | 0.0      | 0.0%            |                                                  |\n",
      "+---------------+---------------+------------+-------------+------------------------------+----------+------------------+-------------------------------+----------+-----------------+--------------------------------------------------+\n",
      "| fc            | Linear        | (8192)     | (1)         |                              | 8.193K   | 39.1466%         | ###################           | 262.144K | 0.5%            |                                                  |\n",
      "+---------------+---------------+------------+-------------+------------------------------+----------+------------------+-------------------------------+----------+-----------------+--------------------------------------------------+\n",
      "\n",
      "\n",
      "Flops :52.4288M\n"
     ]
    }
   ],
   "source": [
    "from flopth import flopth\n",
    "\n",
    "model_flops = CNNClassifier()  \n",
    "input = torch.randn(32,1,128)  \n",
    "\n",
    "\n",
    "flops, params = flopth(model_flops, inputs=(input,), show_detail=True)\n",
    "print(f\"Flops :{flops}\")\n"
   ]
  },
  {
   "cell_type": "code",
   "execution_count": 189,
   "metadata": {},
   "outputs": [],
   "source": [
    "all_results_json=[]"
   ]
  },
  {
   "cell_type": "code",
   "execution_count": 175,
   "metadata": {},
   "outputs": [
    {
     "name": "stderr",
     "output_type": "stream",
     "text": [
      "  0%|          | 0/300 [00:00<?, ?it/s]"
     ]
    },
    {
     "name": "stderr",
     "output_type": "stream",
     "text": [
      "  0%|          | 1/300 [00:06<30:42,  6.16s/it]"
     ]
    },
    {
     "name": "stdout",
     "output_type": "stream",
     "text": [
      "[Epoch 1/300] [Train Loss: 0.6782] [Train Acc: 0.7365] [Valid Loss: 0.4476] [Valid Acc: 0.7816]\n"
     ]
    },
    {
     "name": "stderr",
     "output_type": "stream",
     "text": [
      "  1%|          | 2/300 [00:10<26:36,  5.36s/it]"
     ]
    },
    {
     "name": "stdout",
     "output_type": "stream",
     "text": [
      "[Epoch 2/300] [Train Loss: 0.4565] [Train Acc: 0.7809] [Valid Loss: 0.4413] [Valid Acc: 0.7864]\n"
     ]
    },
    {
     "name": "stderr",
     "output_type": "stream",
     "text": [
      "  1%|          | 3/300 [00:15<25:05,  5.07s/it]"
     ]
    },
    {
     "name": "stdout",
     "output_type": "stream",
     "text": [
      "[Epoch 3/300] [Train Loss: 0.4298] [Train Acc: 0.7999] [Valid Loss: 0.3925] [Valid Acc: 0.8125]\n"
     ]
    },
    {
     "name": "stderr",
     "output_type": "stream",
     "text": [
      "  1%|▏         | 4/300 [00:20<25:02,  5.08s/it]"
     ]
    },
    {
     "name": "stdout",
     "output_type": "stream",
     "text": [
      "[Epoch 4/300] [Train Loss: 0.4178] [Train Acc: 0.8054] [Valid Loss: 0.4904] [Valid Acc: 0.7593]\n"
     ]
    },
    {
     "name": "stderr",
     "output_type": "stream",
     "text": [
      "  2%|▏         | 5/300 [00:26<26:21,  5.36s/it]"
     ]
    },
    {
     "name": "stdout",
     "output_type": "stream",
     "text": [
      "[Epoch 5/300] [Train Loss: 0.4115] [Train Acc: 0.8110] [Valid Loss: 0.3825] [Valid Acc: 0.8228]\n"
     ]
    },
    {
     "name": "stderr",
     "output_type": "stream",
     "text": [
      "  2%|▏         | 6/300 [00:31<25:39,  5.23s/it]"
     ]
    },
    {
     "name": "stdout",
     "output_type": "stream",
     "text": [
      "[Epoch 6/300] [Train Loss: 0.4005] [Train Acc: 0.8197] [Valid Loss: 0.3449] [Valid Acc: 0.8476]\n"
     ]
    },
    {
     "name": "stderr",
     "output_type": "stream",
     "text": [
      "  2%|▏         | 7/300 [00:36<24:46,  5.07s/it]"
     ]
    },
    {
     "name": "stdout",
     "output_type": "stream",
     "text": [
      "[Epoch 7/300] [Train Loss: 0.3994] [Train Acc: 0.8182] [Valid Loss: 0.3283] [Valid Acc: 0.8531]\n"
     ]
    },
    {
     "name": "stderr",
     "output_type": "stream",
     "text": [
      "  3%|▎         | 8/300 [00:40<23:03,  4.74s/it]"
     ]
    },
    {
     "name": "stdout",
     "output_type": "stream",
     "text": [
      "[Epoch 8/300] [Train Loss: 0.3893] [Train Acc: 0.8272] [Valid Loss: 0.4422] [Valid Acc: 0.7928]\n"
     ]
    },
    {
     "name": "stderr",
     "output_type": "stream",
     "text": [
      "  3%|▎         | 9/300 [00:44<22:08,  4.57s/it]"
     ]
    },
    {
     "name": "stdout",
     "output_type": "stream",
     "text": [
      "[Epoch 9/300] [Train Loss: 0.3814] [Train Acc: 0.8305] [Valid Loss: 0.4874] [Valid Acc: 0.7642]\n"
     ]
    },
    {
     "name": "stderr",
     "output_type": "stream",
     "text": [
      "  3%|▎         | 10/300 [00:48<21:08,  4.37s/it]"
     ]
    },
    {
     "name": "stdout",
     "output_type": "stream",
     "text": [
      "[Epoch 10/300] [Train Loss: 0.3749] [Train Acc: 0.8315] [Valid Loss: 0.4279] [Valid Acc: 0.8086]\n"
     ]
    },
    {
     "name": "stderr",
     "output_type": "stream",
     "text": [
      "  4%|▎         | 11/300 [00:52<20:17,  4.21s/it]"
     ]
    },
    {
     "name": "stdout",
     "output_type": "stream",
     "text": [
      "[Epoch 11/300] [Train Loss: 0.3741] [Train Acc: 0.8307] [Valid Loss: 0.3725] [Valid Acc: 0.8322]\n"
     ]
    },
    {
     "name": "stderr",
     "output_type": "stream",
     "text": [
      "  4%|▍         | 12/300 [00:56<19:54,  4.15s/it]"
     ]
    },
    {
     "name": "stdout",
     "output_type": "stream",
     "text": [
      "[Epoch 12/300] [Train Loss: 0.3706] [Train Acc: 0.8351] [Valid Loss: 0.3262] [Valid Acc: 0.8515]\n"
     ]
    },
    {
     "name": "stderr",
     "output_type": "stream",
     "text": [
      "  4%|▍         | 13/300 [01:01<21:29,  4.49s/it]"
     ]
    },
    {
     "name": "stdout",
     "output_type": "stream",
     "text": [
      "[Epoch 13/300] [Train Loss: 0.3601] [Train Acc: 0.8397] [Valid Loss: 0.3228] [Valid Acc: 0.8534]\n"
     ]
    },
    {
     "name": "stderr",
     "output_type": "stream",
     "text": [
      "  5%|▍         | 14/300 [01:07<22:49,  4.79s/it]"
     ]
    },
    {
     "name": "stdout",
     "output_type": "stream",
     "text": [
      "[Epoch 14/300] [Train Loss: 0.3553] [Train Acc: 0.8435] [Valid Loss: 0.3888] [Valid Acc: 0.8241]\n"
     ]
    },
    {
     "name": "stderr",
     "output_type": "stream",
     "text": [
      "  5%|▌         | 15/300 [01:12<24:13,  5.10s/it]"
     ]
    },
    {
     "name": "stdout",
     "output_type": "stream",
     "text": [
      "[Epoch 15/300] [Train Loss: 0.3519] [Train Acc: 0.8471] [Valid Loss: 0.3769] [Valid Acc: 0.8280]\n"
     ]
    },
    {
     "name": "stderr",
     "output_type": "stream",
     "text": [
      "  5%|▌         | 16/300 [01:18<24:57,  5.27s/it]"
     ]
    },
    {
     "name": "stdout",
     "output_type": "stream",
     "text": [
      "[Epoch 16/300] [Train Loss: 0.3502] [Train Acc: 0.8468] [Valid Loss: 0.4434] [Valid Acc: 0.7951]\n"
     ]
    },
    {
     "name": "stderr",
     "output_type": "stream",
     "text": [
      "  6%|▌         | 17/300 [01:24<25:14,  5.35s/it]"
     ]
    },
    {
     "name": "stdout",
     "output_type": "stream",
     "text": [
      "[Epoch 17/300] [Train Loss: 0.3472] [Train Acc: 0.8475] [Valid Loss: 0.3681] [Valid Acc: 0.8370]\n"
     ]
    },
    {
     "name": "stderr",
     "output_type": "stream",
     "text": [
      "  6%|▌         | 18/300 [01:32<28:54,  6.15s/it]"
     ]
    },
    {
     "name": "stdout",
     "output_type": "stream",
     "text": [
      "[Epoch 18/300] [Train Loss: 0.3397] [Train Acc: 0.8500] [Valid Loss: 0.3713] [Valid Acc: 0.8260]\n"
     ]
    },
    {
     "name": "stderr",
     "output_type": "stream",
     "text": [
      "  6%|▋         | 19/300 [01:36<26:50,  5.73s/it]"
     ]
    },
    {
     "name": "stdout",
     "output_type": "stream",
     "text": [
      "[Epoch 19/300] [Train Loss: 0.3352] [Train Acc: 0.8561] [Valid Loss: 0.4193] [Valid Acc: 0.8131]\n"
     ]
    },
    {
     "name": "stderr",
     "output_type": "stream",
     "text": [
      "  7%|▋         | 20/300 [01:41<25:15,  5.41s/it]"
     ]
    },
    {
     "name": "stdout",
     "output_type": "stream",
     "text": [
      "[Epoch 20/300] [Train Loss: 0.3364] [Train Acc: 0.8544] [Valid Loss: 0.4290] [Valid Acc: 0.8183]\n"
     ]
    },
    {
     "name": "stderr",
     "output_type": "stream",
     "text": [
      "  7%|▋         | 21/300 [01:46<24:12,  5.21s/it]"
     ]
    },
    {
     "name": "stdout",
     "output_type": "stream",
     "text": [
      "[Epoch 21/300] [Train Loss: 0.3360] [Train Acc: 0.8555] [Valid Loss: 0.4922] [Valid Acc: 0.7825]\n"
     ]
    },
    {
     "name": "stderr",
     "output_type": "stream",
     "text": [
      "  7%|▋         | 22/300 [01:51<23:31,  5.08s/it]"
     ]
    },
    {
     "name": "stdout",
     "output_type": "stream",
     "text": [
      "[Epoch 22/300] [Train Loss: 0.3343] [Train Acc: 0.8550] [Valid Loss: 0.3877] [Valid Acc: 0.8257]\n"
     ]
    },
    {
     "name": "stderr",
     "output_type": "stream",
     "text": [
      "  8%|▊         | 23/300 [01:56<23:15,  5.04s/it]"
     ]
    },
    {
     "name": "stdout",
     "output_type": "stream",
     "text": [
      "[Epoch 23/300] [Train Loss: 0.3231] [Train Acc: 0.8587] [Valid Loss: 0.3438] [Valid Acc: 0.8392]\n"
     ]
    },
    {
     "name": "stderr",
     "output_type": "stream",
     "text": [
      "  8%|▊         | 24/300 [02:00<22:46,  4.95s/it]"
     ]
    },
    {
     "name": "stdout",
     "output_type": "stream",
     "text": [
      "[Epoch 24/300] [Train Loss: 0.3269] [Train Acc: 0.8610] [Valid Loss: 0.3663] [Valid Acc: 0.8389]\n"
     ]
    },
    {
     "name": "stderr",
     "output_type": "stream",
     "text": [
      "  8%|▊         | 25/300 [02:05<22:59,  5.02s/it]"
     ]
    },
    {
     "name": "stdout",
     "output_type": "stream",
     "text": [
      "[Epoch 25/300] [Train Loss: 0.3283] [Train Acc: 0.8587] [Valid Loss: 0.4591] [Valid Acc: 0.8028]\n"
     ]
    },
    {
     "name": "stderr",
     "output_type": "stream",
     "text": [
      "  9%|▊         | 26/300 [02:11<23:05,  5.06s/it]"
     ]
    },
    {
     "name": "stdout",
     "output_type": "stream",
     "text": [
      "[Epoch 26/300] [Train Loss: 0.3202] [Train Acc: 0.8638] [Valid Loss: 0.3506] [Valid Acc: 0.8476]\n"
     ]
    },
    {
     "name": "stderr",
     "output_type": "stream",
     "text": [
      "  9%|▉         | 27/300 [02:15<22:43,  4.99s/it]"
     ]
    },
    {
     "name": "stdout",
     "output_type": "stream",
     "text": [
      "[Epoch 27/300] [Train Loss: 0.3193] [Train Acc: 0.8629] [Valid Loss: 0.4061] [Valid Acc: 0.8231]\n"
     ]
    },
    {
     "name": "stderr",
     "output_type": "stream",
     "text": [
      "  9%|▉         | 28/300 [02:23<26:13,  5.78s/it]"
     ]
    },
    {
     "name": "stdout",
     "output_type": "stream",
     "text": [
      "[Epoch 28/300] [Train Loss: 0.3161] [Train Acc: 0.8628] [Valid Loss: 0.3966] [Valid Acc: 0.8225]\n"
     ]
    },
    {
     "name": "stderr",
     "output_type": "stream",
     "text": [
      " 10%|▉         | 29/300 [02:29<25:49,  5.72s/it]"
     ]
    },
    {
     "name": "stdout",
     "output_type": "stream",
     "text": [
      "[Epoch 29/300] [Train Loss: 0.3199] [Train Acc: 0.8660] [Valid Loss: 0.3297] [Valid Acc: 0.8521]\n"
     ]
    },
    {
     "name": "stderr",
     "output_type": "stream",
     "text": [
      " 10%|█         | 30/300 [02:34<24:57,  5.55s/it]"
     ]
    },
    {
     "name": "stdout",
     "output_type": "stream",
     "text": [
      "[Epoch 30/300] [Train Loss: 0.3145] [Train Acc: 0.8686] [Valid Loss: 0.3313] [Valid Acc: 0.8531]\n"
     ]
    },
    {
     "name": "stderr",
     "output_type": "stream",
     "text": [
      " 10%|█         | 31/300 [02:39<24:15,  5.41s/it]"
     ]
    },
    {
     "name": "stdout",
     "output_type": "stream",
     "text": [
      "[Epoch 31/300] [Train Loss: 0.3147] [Train Acc: 0.8638] [Valid Loss: 0.3763] [Valid Acc: 0.8373]\n"
     ]
    },
    {
     "name": "stderr",
     "output_type": "stream",
     "text": [
      " 11%|█         | 32/300 [02:44<24:16,  5.44s/it]"
     ]
    },
    {
     "name": "stdout",
     "output_type": "stream",
     "text": [
      "[Epoch 32/300] [Train Loss: 0.3068] [Train Acc: 0.8702] [Valid Loss: 0.3807] [Valid Acc: 0.8312]\n"
     ]
    },
    {
     "name": "stderr",
     "output_type": "stream",
     "text": [
      " 11%|█         | 33/300 [02:50<23:48,  5.35s/it]"
     ]
    },
    {
     "name": "stdout",
     "output_type": "stream",
     "text": [
      "[Epoch 33/300] [Train Loss: 0.3059] [Train Acc: 0.8704] [Valid Loss: 0.3480] [Valid Acc: 0.8483]\n"
     ]
    },
    {
     "name": "stderr",
     "output_type": "stream",
     "text": [
      " 11%|█         | 33/300 [02:56<23:44,  5.34s/it]"
     ]
    },
    {
     "name": "stdout",
     "output_type": "stream",
     "text": [
      "[Epoch 34/300] [Train Loss: 0.3055] [Train Acc: 0.8707] [Valid Loss: 0.3867] [Valid Acc: 0.8367]\n",
      "Epoch 00034: reducing learning rate of group 0 to 1.0000e-03.\n",
      "Early stopping for a learning rate = 0.001\n"
     ]
    },
    {
     "name": "stderr",
     "output_type": "stream",
     "text": [
      "\n"
     ]
    }
   ],
   "source": [
    "starter, ender = torch.cuda.Event(enable_timing=True), torch.cuda.Event(enable_timing=True)\n",
    "num_epochs=300\n",
    "factor=0.1\n",
    "patience=20\n",
    "stopping_rate = 1e-3\n",
    "learning_rate=0.01\n",
    "momentum=0.9\n",
    "timings=[]\n",
    "\n",
    "model = CNNClassifier().to(device)\n",
    "optimizer = optim.SGD(model.parameters(), lr= learning_rate,momentum=momentum)\n",
    "loss_function = nn.BCEWithLogitsLoss()\n",
    "scheduler=ReduceLROnPlateau(optimizer, mode='max', factor=factor, patience=patience, verbose=True)\n",
    "\n",
    "train_loss_plot=[]\n",
    "valid_loss_plot=[]\n",
    "\n",
    "train_acc_plot=[]\n",
    "valid_acc_plot=[]\n",
    "\n",
    "epochs=[]\n",
    "# GPU WARM UP IN CASE FIRST EXECUTION :\n",
    "# for epoch in trange(3):\n",
    "#     print(\"WARMING UP FOR GPU\")\n",
    "#     train_losses,train_accuracy=run_model(model=model,optimizer=optimizer,timer_starter=None,timer_ender=None,loader=train_loader,loss_function=loss_function,mode='train')\n",
    "\n",
    "\n",
    "# \n",
    "for epoch in trange(num_epochs):\n",
    "    train_losses,train_accuracy = run_model(model=model,optimizer=optimizer,device=device,loader=train_loader,loss_function=loss_function,timings=timings,mode='train')\n",
    "    valid_losses,valid_accuracy = run_model(model=model,optimizer=optimizer,loader=test_loader,device=device,loss_function=loss_function,timings=timings,mode='eval')\n",
    "    \n",
    "\n",
    "    train_loss = sum(train_losses) / len(train_losses)\n",
    "    valid_loss = sum(valid_losses) / len(valid_losses)\n",
    "    train_acc = sum(train_accuracy) / len(train_accuracy)\n",
    "    valid_acc = sum(valid_accuracy) / len(valid_accuracy)\n",
    "    \n",
    "    train_acc_plot.append(train_acc)\n",
    "    train_loss_plot.append(train_loss)\n",
    "    valid_acc_plot.append(valid_acc)\n",
    "    valid_loss_plot.append(valid_loss)\n",
    "\n",
    "    epochs.append(epoch)\n",
    "\n",
    "\n",
    "    print(\"[Epoch %d/%d] [Train Loss: %.4f] [Train Acc: %.4f] [Valid Loss: %.4f] [Valid Acc: %.4f]\" %\n",
    "              (epoch + 1, num_epochs, train_loss, train_acc, valid_loss, valid_acc))\n",
    "\n",
    "    stop = is_early_stopping(scheduler=scheduler,loss=valid_acc,optimizer=optimizer,stopping_rate=stopping_rate,elder_learning_rate=learning_rate,condition='improvement')\n",
    "    if stop == True:\n",
    "        print(f\"Early stopping for a learning rate = {optimizer.param_groups[0]['lr']}\")\n",
    "        break\n",
    "\n",
    "all_results_json.append({ 'model' : { 'architecture' :str(model), 'FLOPS' : flops},\n",
    "                         'parameters' : {\n",
    "                                    'learning_rate': learning_rate,\n",
    "                                    'reduction factor' : factor, \n",
    "                                    'patience' : patience, \n",
    "                                    'momentum' : momentum,\n",
    "                                    'batch_size': batch_size},\n",
    "                           'results' : {\n",
    "                                    'train_loss': train_loss_plot,\n",
    "                                    'valid_loss': valid_loss_plot,\n",
    "                                    'train_accuracy': train_acc_plot,\n",
    "                                    'valid_accuracy': valid_acc_plot,\n",
    "                                    'Number of epochs' : epochs[-1],\n",
    "                                    'Early stop' : stop,\n",
    "                                    'final learning_rate' : optimizer.param_groups[0]['lr']}})"
   ]
  },
  {
   "cell_type": "code",
   "execution_count": 176,
   "metadata": {},
   "outputs": [
    {
     "data": {
      "image/png": "[encoded data removed]",
      "text/plain": [
       "<Figure size 1000x600 with 1 Axes>"
      ]
     },
     "metadata": {},
     "output_type": "display_data"
    }
   ],
   "source": [
    "import matplotlib.pyplot as plt\n",
    "\n",
    "\n",
    "plt.figure(figsize=(10, 6)) \n",
    "plt.plot(epochs,train_acc_plot, label='Train Accuracy', color='orange')\n",
    "plt.plot(epochs,valid_acc_plot, label='Test Accuracy', color='blue')\n",
    "plt.title(f'Training and Test Accuracy at Learning Rate: {learning_rate}')\n",
    "plt.xlabel('Epochs')\n",
    "plt.ylabel('Accuracy')\n",
    "plt.legend()\n",
    "plt.grid(True)\n",
    "plt.show()"
   ]
  },
  {
   "cell_type": "code",
   "execution_count": 177,
   "metadata": {},
   "outputs": [
    {
     "name": "stdout",
     "output_type": "stream",
     "text": [
      "The time of training for the CNN model : 2.317220040636904 s/epoch\n"
     ]
    }
   ],
   "source": [
    "mean_syn = np.sum(timings) / ((epoch+1)*1000)\n",
    "print(f\"The time of training for the CNN model : {mean_syn} s/epoch\")"
   ]
  },
  {
   "cell_type": "code",
   "execution_count": 178,
   "metadata": {},
   "outputs": [],
   "source": [
    "all_results_json[-1]['results']['Time of training'] = mean_syn"
   ]
  },
  {
   "cell_type": "code",
   "execution_count": 179,
   "metadata": {},
   "outputs": [
    {
     "data": {
      "text/plain": [
       "_CudaDeviceProperties(name='NVIDIA GeForce RTX 3060 Laptop GPU', major=8, minor=6, total_memory=6143MB, multi_processor_count=30)"
      ]
     },
     "execution_count": 179,
     "metadata": {},
     "output_type": "execute_result"
    }
   ],
   "source": [
    "torch.cuda.get_device_properties(device=torch.device)"
   ]
  },
  {
   "cell_type": "code",
   "execution_count": 180,
   "metadata": {},
   "outputs": [],
   "source": [
    "all_results_json[-1]['parameters']['device GPU'] = torch.cuda.get_device_properties(device=torch.device)"
   ]
  },
  {
   "cell_type": "markdown",
   "metadata": {},
   "source": [
    "## Prediction on Test set + Confusion Matrix computation"
   ]
  },
  {
   "cell_type": "code",
   "execution_count": 190,
   "metadata": {},
   "outputs": [],
   "source": []
  },
  {
   "cell_type": "code",
   "execution_count": 181,
   "metadata": {},
   "outputs": [
    {
     "name": "stdout",
     "output_type": "stream",
     "text": [
      "Accuracy: 81.80%\n",
      "Confusion Matrix:\n",
      " [[4111  901]\n",
      " [ 207  870]]\n"
     ]
    }
   ],
   "source": [
    "starter, ender = torch.cuda.Event(enable_timing=True), torch.cuda.Event(enable_timing=True)\n",
    "timings=[] \n",
    "accuracy,conf_matrix= run_model_eval(model=model,loader=eval_loader,device=device,timings=timings)\n",
    "    \n",
    "\n",
    "print(f'Accuracy: {accuracy * 100:.2f}%')\n",
    "\n",
    "print('Confusion Matrix:\\n', conf_matrix)\n",
    "\n",
    "all_results_json[-1]['results']['eval_accuracy'] = accuracy\n",
    "all_results_json[-1]['results']['confusion_matrix'] = conf_matrix.tolist()\n"
   ]
  },
  {
   "cell_type": "code",
   "execution_count": 171,
   "metadata": {},
   "outputs": [
    {
     "name": "stdout",
     "output_type": "stream",
     "text": [
      "Results have been saved to ./results_models.json\n"
     ]
    }
   ],
   "source": [
    "import json\n",
    "\n",
    "filename = './results_models.json'\n",
    "results_json = json.dumps(all_results_json, indent=4)\n",
    "with open(filename, 'w') as file:\n",
    "    file.write(results_json)\n",
    "\n",
    "print(f\"Results have been saved to {filename}\")"
   ]
  },
  {
   "cell_type": "code",
   "execution_count": null,
   "metadata": {},
   "outputs": [],
   "source": [
    "import matplotlib.pyplot as plt\n",
    "\n",
    "\n",
    "n_rows = len(all_results_json)  \n",
    "n_cols = 3 \n",
    "fig, axes = plt.subplots(n_rows, n_cols, figsize=(10, 5 * n_rows))  \n",
    "\n",
    "for i, result in enumerate(all_results_json):\n",
    "    ax = axes[i] if n_rows > 1 else axes  \n",
    "    params = result['parameters']\n",
    "    res = result['results']\n",
    "    \n",
    "    ax.plot(res['train_loss'], label='Train Loss', color='red')\n",
    "    ax.plot(res['valid_loss'], label='Validation Loss', color='green')\n",
    "    \n",
    "    ax2 = ax.twinx()  \n",
    "    ax2.plot(res['train_accuracy'], label='Train Accuracy', color='blue', linestyle='--')\n",
    "    ax2.plot(res['valid_accuracy'], label='Validation Accuracy', color='orange', linestyle='--')\n",
    "    \n",
    "    title = f\"LR: {params['learning_rate']}, Reduction: {params['reduction factor']}, \"\n",
    "    title += f\"Patience: {params['patience']}, Momentum: {params['momentum']}\"\n",
    "    ax.set_title(title)\n",
    "    ax.set_xlabel('Epochs')\n",
    "    ax.set_ylabel('Loss')\n",
    "    ax2.set_ylabel('Accuracy (%)')\n",
    "    \n",
    "    # Légendes\n",
    "    lines, labels = ax.get_legend_handles_labels()\n",
    "    lines2, labels2 = ax2.get_legend_handles_labels()\n",
    "    ax2.legend(lines + lines2, labels + labels2, loc='upper left')\n",
    "\n",
    "# Ajustez l'espacement\n",
    "plt.tight_layout()\n",
    "\n",
    "# Affichez la figure\n",
    "plt.show()\n"
   ]
  }
 ],
 "metadata": {
  "kernelspec": {
   "display_name": "base",
   "language": "python",
   "name": "python3"
  },
  "language_info": {
   "codemirror_mode": {
    "name": "ipython",
    "version": 3
   },
   "file_extension": ".py",
   "mimetype": "text/x-python",
   "name": "python",
   "nbconvert_exporter": "python",
   "pygments_lexer": "ipython3",
   "version": "3.10.9"
  }
 },
 "nbformat": 4,
 "nbformat_minor": 2
}
