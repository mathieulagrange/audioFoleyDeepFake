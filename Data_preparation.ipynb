{
 "cells": [
  {
   "cell_type": "markdown",
   "metadata": {},
   "source": [
    "## Import librairies"
   ]
  },
  {
   "cell_type": "code",
   "execution_count": 1,
   "metadata": {},
   "outputs": [],
   "source": [
    "import numpy as np \n",
    "import os\n",
    "import pandas as pd\n",
    "import tqdm \n",
    "from tqdm import tqdm, trange\n"
   ]
  },
  {
   "cell_type": "markdown",
   "metadata": {},
   "source": [
    "## Creation of Dataframe"
   ]
  },
  {
   "cell_type": "code",
   "execution_count": null,
   "metadata": {},
   "outputs": [],
   "source": [
    "directory_real= './DCASE_2023/DCASE_2023_Challenge_Task_7_Dataset/'\n",
    "directory_fake=  './DCASE_2023/DCASE_2023_Challenge_Task_7_Submission/AudioFiles/Submissions/'\n"
   ]
  },
  {
   "cell_type": "code",
   "execution_count": null,
   "metadata": {},
   "outputs": [
    {
     "data": {
      "text/html": [
       "<div>\n",
       "<style scoped>\n",
       "    .dataframe tbody tr th:only-of-type {\n",
       "        vertical-align: middle;\n",
       "    }\n",
       "\n",
       "    .dataframe tbody tr th {\n",
       "        vertical-align: top;\n",
       "    }\n",
       "\n",
       "    .dataframe thead th {\n",
       "        text-align: right;\n",
       "    }\n",
       "</style>\n",
       "<table border=\"1\" class=\"dataframe\">\n",
       "  <thead>\n",
       "    <tr style=\"text-align: right;\">\n",
       "      <th></th>\n",
       "      <th>class</th>\n",
       "      <th>embedding</th>\n",
       "      <th>embedding_type</th>\n",
       "      <th>label</th>\n",
       "      <th>system_id</th>\n",
       "      <th>track</th>\n",
       "    </tr>\n",
       "  </thead>\n",
       "  <tbody>\n",
       "    <tr>\n",
       "      <th>0</th>\n",
       "      <td>dog_bark</td>\n",
       "      <td>[[-0.6465, -0.705, -0.2708, -1.329, -0.2389, -...</td>\n",
       "      <td>VGGIsh</td>\n",
       "      <td>0</td>\n",
       "      <td>TASys02</td>\n",
       "      <td>A</td>\n",
       "    </tr>\n",
       "    <tr>\n",
       "      <th>1</th>\n",
       "      <td>dog_bark</td>\n",
       "      <td>[[-0.564, -0.25, 0.7427, -0.3833, 0.01987, -0....</td>\n",
       "      <td>VGGIsh</td>\n",
       "      <td>0</td>\n",
       "      <td>TASys02</td>\n",
       "      <td>A</td>\n",
       "    </tr>\n",
       "    <tr>\n",
       "      <th>2</th>\n",
       "      <td>dog_bark</td>\n",
       "      <td>[[-0.33, -0.2524, -0.2025, -1.947, -0.776, -1....</td>\n",
       "      <td>VGGIsh</td>\n",
       "      <td>0</td>\n",
       "      <td>TASys02</td>\n",
       "      <td>A</td>\n",
       "    </tr>\n",
       "    <tr>\n",
       "      <th>3</th>\n",
       "      <td>dog_bark</td>\n",
       "      <td>[[-0.7124, -0.6235, -0.579, -1.739, -0.384, -1...</td>\n",
       "      <td>VGGIsh</td>\n",
       "      <td>0</td>\n",
       "      <td>TASys02</td>\n",
       "      <td>A</td>\n",
       "    </tr>\n",
       "    <tr>\n",
       "      <th>4</th>\n",
       "      <td>dog_bark</td>\n",
       "      <td>[[-0.2844, -0.4236, 0.2023, -1.006, -0.4763, -...</td>\n",
       "      <td>VGGIsh</td>\n",
       "      <td>0</td>\n",
       "      <td>TASys02</td>\n",
       "      <td>A</td>\n",
       "    </tr>\n",
       "  </tbody>\n",
       "</table>\n",
       "</div>"
      ],
      "text/plain": [
       "      class                                          embedding embedding_type  \\\n",
       "0  dog_bark  [[-0.6465, -0.705, -0.2708, -1.329, -0.2389, -...         VGGIsh   \n",
       "1  dog_bark  [[-0.564, -0.25, 0.7427, -0.3833, 0.01987, -0....         VGGIsh   \n",
       "2  dog_bark  [[-0.33, -0.2524, -0.2025, -1.947, -0.776, -1....         VGGIsh   \n",
       "3  dog_bark  [[-0.7124, -0.6235, -0.579, -1.739, -0.384, -1...         VGGIsh   \n",
       "4  dog_bark  [[-0.2844, -0.4236, 0.2023, -1.006, -0.4763, -...         VGGIsh   \n",
       "\n",
       "   label system_id track  \n",
       "0      0   TASys02     A  \n",
       "1      0   TASys02     A  \n",
       "2      0   TASys02     A  \n",
       "3      0   TASys02     A  \n",
       "4      0   TASys02     A  "
      ]
     },
     "metadata": {},
     "output_type": "display_data"
    }
   ],
   "source": [
    "data_fake = []\n",
    "\n",
    "for track in os.listdir(directory_fake):\n",
    "    track_path=os.path.join(directory_fake,track)\n",
    "\n",
    "    for method in os.listdir(track_path):\n",
    "        method_path=os.path.join(track_path,method)\n",
    "\n",
    "        for class_folder in os.listdir(method_path):\n",
    "\n",
    "            embeddings_folder_path = os.path.join(method_path, class_folder, 'embeddings/vggish')\n",
    "\n",
    "            if os.path.exists(embeddings_folder_path):\n",
    "                for embedding_file in tqdm(os.listdir(embeddings_folder_path)):\n",
    "\n",
    "                    embedding_file_path = os.path.join(embeddings_folder_path, embedding_file)\n",
    "\n",
    "                    embedding = np.load(embedding_file_path)\n",
    "\n",
    "                    data_fake.append({\n",
    "                        'class': class_folder,\n",
    "                        'embedding': embedding,\n",
    "                        'embedding_type': 'VGGIsh',\n",
    "                        'label': 0,\n",
    "                        'system_id': method,\n",
    "                        'track' : track\n",
    "                    })\n",
    "\n",
    "\n",
    "df_fake = pd.DataFrame(data_fake)\n",
    "\n",
    "\n",
    "df_fake.head()"
   ]
  },
  {
   "cell_type": "code",
   "execution_count": null,
   "metadata": {},
   "outputs": [
    {
     "name": "stdout",
     "output_type": "stream",
     "text": [
      "./DCASE_2023/DCASE_2023_Challenge_Task_7_Dataset/dev\n"
     ]
    },
    {
     "name": "stderr",
     "output_type": "stream",
     "text": [
      "  0%|          | 0/617 [00:00<?, ?it/s]"
     ]
    },
    {
     "name": "stderr",
     "output_type": "stream",
     "text": [
      "100%|██████████| 617/617 [00:11<00:00, 54.31it/s]\n",
      "100%|██████████| 703/703 [00:11<00:00, 59.04it/s]\n",
      "100%|██████████| 777/777 [00:10<00:00, 70.66it/s]\n",
      "100%|██████████| 800/800 [00:11<00:00, 67.25it/s]\n",
      "100%|██████████| 581/581 [00:08<00:00, 72.19it/s]\n",
      "100%|██████████| 741/741 [00:10<00:00, 67.81it/s]\n",
      "100%|██████████| 631/631 [00:08<00:00, 73.37it/s]\n"
     ]
    },
    {
     "name": "stdout",
     "output_type": "stream",
     "text": [
      "./DCASE_2023/DCASE_2023_Challenge_Task_7_Dataset/eval\n"
     ]
    },
    {
     "name": "stderr",
     "output_type": "stream",
     "text": [
      "100%|██████████| 100/100 [00:01<00:00, 70.40it/s]\n",
      "100%|██████████| 100/100 [00:01<00:00, 58.46it/s]\n",
      "100%|██████████| 100/100 [00:01<00:00, 67.90it/s]\n",
      "100%|██████████| 100/100 [00:01<00:00, 84.99it/s]\n",
      "100%|██████████| 100/100 [00:01<00:00, 73.96it/s]\n",
      "100%|██████████| 100/100 [00:01<00:00, 76.89it/s]\n",
      "100%|██████████| 100/100 [00:01<00:00, 64.15it/s]\n"
     ]
    },
    {
     "data": {
      "text/html": [
       "<div>\n",
       "<style scoped>\n",
       "    .dataframe tbody tr th:only-of-type {\n",
       "        vertical-align: middle;\n",
       "    }\n",
       "\n",
       "    .dataframe tbody tr th {\n",
       "        vertical-align: top;\n",
       "    }\n",
       "\n",
       "    .dataframe thead th {\n",
       "        text-align: right;\n",
       "    }\n",
       "</style>\n",
       "<table border=\"1\" class=\"dataframe\">\n",
       "  <thead>\n",
       "    <tr style=\"text-align: right;\">\n",
       "      <th></th>\n",
       "      <th>class</th>\n",
       "      <th>embedding</th>\n",
       "      <th>embedding_type</th>\n",
       "      <th>label</th>\n",
       "      <th>system_id</th>\n",
       "      <th>track</th>\n",
       "    </tr>\n",
       "  </thead>\n",
       "  <tbody>\n",
       "    <tr>\n",
       "      <th>0</th>\n",
       "      <td>dog_bark</td>\n",
       "      <td>[[-0.03552, 0.715, -0.0745, -1.151, -0.47, -0....</td>\n",
       "      <td>VGGIsh</td>\n",
       "      <td>1</td>\n",
       "      <td>None</td>\n",
       "      <td>None</td>\n",
       "    </tr>\n",
       "    <tr>\n",
       "      <th>1</th>\n",
       "      <td>dog_bark</td>\n",
       "      <td>[[0.0539, -0.05032, 0.167, -0.3118, 0.03278, -...</td>\n",
       "      <td>VGGIsh</td>\n",
       "      <td>1</td>\n",
       "      <td>None</td>\n",
       "      <td>None</td>\n",
       "    </tr>\n",
       "    <tr>\n",
       "      <th>2</th>\n",
       "      <td>dog_bark</td>\n",
       "      <td>[[-0.317, -0.2576, 0.4824, -0.3738, -0.281, -0...</td>\n",
       "      <td>VGGIsh</td>\n",
       "      <td>1</td>\n",
       "      <td>None</td>\n",
       "      <td>None</td>\n",
       "    </tr>\n",
       "    <tr>\n",
       "      <th>3</th>\n",
       "      <td>dog_bark</td>\n",
       "      <td>[[-0.46, 0.2023, -0.03247, -1.229, -0.7397, -1...</td>\n",
       "      <td>VGGIsh</td>\n",
       "      <td>1</td>\n",
       "      <td>None</td>\n",
       "      <td>None</td>\n",
       "    </tr>\n",
       "    <tr>\n",
       "      <th>4</th>\n",
       "      <td>dog_bark</td>\n",
       "      <td>[[0.1288, -0.3374, 0.1026, -0.9604, -0.3567, -...</td>\n",
       "      <td>VGGIsh</td>\n",
       "      <td>1</td>\n",
       "      <td>None</td>\n",
       "      <td>None</td>\n",
       "    </tr>\n",
       "  </tbody>\n",
       "</table>\n",
       "</div>"
      ],
      "text/plain": [
       "      class                                          embedding embedding_type  \\\n",
       "0  dog_bark  [[-0.03552, 0.715, -0.0745, -1.151, -0.47, -0....         VGGIsh   \n",
       "1  dog_bark  [[0.0539, -0.05032, 0.167, -0.3118, 0.03278, -...         VGGIsh   \n",
       "2  dog_bark  [[-0.317, -0.2576, 0.4824, -0.3738, -0.281, -0...         VGGIsh   \n",
       "3  dog_bark  [[-0.46, 0.2023, -0.03247, -1.229, -0.7397, -1...         VGGIsh   \n",
       "4  dog_bark  [[0.1288, -0.3374, 0.1026, -0.9604, -0.3567, -...         VGGIsh   \n",
       "\n",
       "   label system_id track  \n",
       "0      1      None  None  \n",
       "1      1      None  None  \n",
       "2      1      None  None  \n",
       "3      1      None  None  \n",
       "4      1      None  None  "
      ]
     },
     "metadata": {},
     "output_type": "display_data"
    }
   ],
   "source": [
    "data_real = []\n",
    "\n",
    "folder_path=['dev','eval']\n",
    "\n",
    "\n",
    "for folder in folder_path:\n",
    "    directory_real_folder=os.path.join(directory_real,folder)\n",
    "    print(directory_real_folder)\n",
    "\n",
    "    for class_folder in os.listdir(directory_real_folder):\n",
    "\n",
    "        embeddings_folder_path = os.path.join(directory_real_folder, class_folder, 'embeddings/vggish')\n",
    "\n",
    "        if os.path.exists(embeddings_folder_path):\n",
    "            for embedding_file in tqdm(os.listdir(embeddings_folder_path)):\n",
    "\n",
    "                embedding_file_path = os.path.join(embeddings_folder_path, embedding_file)\n",
    "\n",
    "                embedding = np.load(embedding_file_path)\n",
    "\n",
    "                data_real.append({\n",
    "                    'class': class_folder,\n",
    "                    'embedding': embedding,\n",
    "                    'embedding_type': 'VGGIsh',\n",
    "                    'label': 1,\n",
    "                    'system_id': None,\n",
    "                    'track' : None\n",
    "                })\n",
    "\n",
    "\n",
    "df_real = pd.DataFrame(data_real)\n",
    "\n",
    "\n",
    "df_real.head()"
   ]
  },
  {
   "cell_type": "code",
   "execution_count": null,
   "metadata": {},
   "outputs": [],
   "source": [
    "data_final=pd.concat([df_fake,df_real],axis=0)"
   ]
  },
  {
   "cell_type": "code",
   "execution_count": null,
   "metadata": {},
   "outputs": [],
   "source": [
    "# to make sure they are numpy arrays\n",
    "data_final['embedding']=data_final['embedding'].apply(lambda x : np.array(x))"
   ]
  },
  {
   "cell_type": "code",
   "execution_count": null,
   "metadata": {},
   "outputs": [],
   "source": [
    "import pickle\n",
    "with open('./DeepFake_Real_Sounds.pkl', 'wb') as file:\n",
    "    pickle.dump(data_final, file)"
   ]
  }
 ],
 "metadata": {
  "kernelspec": {
   "display_name": "base",
   "language": "python",
   "name": "python3"
  },
  "language_info": {
   "codemirror_mode": {
    "name": "ipython",
    "version": 3
   },
   "file_extension": ".py",
   "mimetype": "text/x-python",
   "name": "python",
   "nbconvert_exporter": "python",
   "pygments_lexer": "ipython3",
   "version": "3.10.9"
  }
 },
 "nbformat": 4,
 "nbformat_minor": 2
}
